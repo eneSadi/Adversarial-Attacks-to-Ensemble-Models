{
  "nbformat": 4,
  "nbformat_minor": 0,
  "metadata": {
    "colab": {
      "provenance": []
    },
    "kernelspec": {
      "name": "python3",
      "display_name": "Python 3"
    },
    "language_info": {
      "name": "python"
    },
    "gpuClass": "standard"
  },
  "cells": [
    {
      "cell_type": "markdown",
      "source": [
        "### Imports"
      ],
      "metadata": {
        "id": "r6rGaI_rPd8H"
      }
    },
    {
      "cell_type": "code",
      "source": [
        "!sudo add-apt-repository -y ppa:alessandro-strada/ppa 2>&1 > /dev/null\n",
        "!sudo apt-get update -qq 2>&1 > /dev/null\n",
        "!sudo apt -y install -qq google-drive-ocamlfuse 2>&1 > /dev/null\n",
        "!google-drive-ocamlfuse"
      ],
      "metadata": {
        "id": "jO_e50kwsXas"
      },
      "execution_count": null,
      "outputs": []
    },
    {
      "cell_type": "code",
      "source": [
        "!sudo apt-get install -qq w3m # to act as web browser \n",
        "!xdg-settings set default-web-browser w3m.desktop # to set default browser\n",
        "%cd /content\n",
        "!mkdir drive\n",
        "%cd drive\n",
        "!mkdir MyDrive\n",
        "%cd ..\n",
        "%cd ..\n",
        "!google-drive-ocamlfuse /content/drive/MyDrive"
      ],
      "metadata": {
        "id": "2OD5Yc_XslKA"
      },
      "execution_count": null,
      "outputs": []
    },
    {
      "cell_type": "code",
      "source": [
        "#from google.colab import drive\n",
        "#drive.mount('/content/drive')"
      ],
      "metadata": {
        "id": "m53nzQWoq7k0"
      },
      "execution_count": null,
      "outputs": []
    },
    {
      "cell_type": "code",
      "source": [
        "%cd /content/drive/MyDrive/ENSEMBLE_PROJECT"
      ],
      "metadata": {
        "colab": {
          "base_uri": "https://localhost:8080/"
        },
        "id": "J6-2Z_zsDrIG",
        "outputId": "f4f9fb5b-0667-4f35-92ac-183b9fba85f7"
      },
      "execution_count": null,
      "outputs": [
        {
          "output_type": "stream",
          "name": "stdout",
          "text": [
            "/content/drive/MyDrive/ENSEMBLE_PROJECT\n"
          ]
        }
      ]
    },
    {
      "cell_type": "code",
      "source": [
        "!pip install torchattacks"
      ],
      "metadata": {
        "colab": {
          "base_uri": "https://localhost:8080/"
        },
        "id": "cSlLGrs_KPwl",
        "outputId": "e6b9222c-64ef-4e03-a524-c4858d273391"
      },
      "execution_count": null,
      "outputs": [
        {
          "output_type": "stream",
          "name": "stdout",
          "text": [
            "Looking in indexes: https://pypi.org/simple, https://us-python.pkg.dev/colab-wheels/public/simple/\n",
            "Collecting torchattacks\n",
            "  Downloading torchattacks-3.3.0-py3-none-any.whl (155 kB)\n",
            "\u001b[2K     \u001b[90m━━━━━━━━━━━━━━━━━━━━━━━━━━━━━━━━━━━━━━━\u001b[0m \u001b[32m155.9/155.9 KB\u001b[0m \u001b[31m8.7 MB/s\u001b[0m eta \u001b[36m0:00:00\u001b[0m\n",
            "\u001b[?25hInstalling collected packages: torchattacks\n",
            "Successfully installed torchattacks-3.3.0\n"
          ]
        }
      ]
    },
    {
      "cell_type": "code",
      "source": [
        "import torch\n",
        "import torchvision\n",
        "import torchvision.transforms as transforms\n",
        "\n",
        "import matplotlib.pyplot as plt\n",
        "import numpy as np\n",
        "\n",
        "import torch.nn as nn\n",
        "import torch.nn.functional as F\n",
        "\n",
        "import torch.optim as optim\n",
        "\n",
        "from tqdm import tqdm\n",
        "\n",
        "from scipy import stats as st\n",
        "from sklearn.metrics import accuracy_score, f1_score\n",
        "\n",
        "import torchattacks"
      ],
      "metadata": {
        "id": "kEjav8yZ0YzF"
      },
      "execution_count": null,
      "outputs": []
    },
    {
      "cell_type": "code",
      "source": [
        "device = torch.device(\"cuda\" if (torch.cuda.is_available()) else \"cpu\")\n",
        "device"
      ],
      "metadata": {
        "colab": {
          "base_uri": "https://localhost:8080/"
        },
        "id": "s7YvsU7N2mRq",
        "outputId": "f77a4d56-c8a3-46d3-b48e-a9adeb60c739"
      },
      "execution_count": null,
      "outputs": [
        {
          "output_type": "execute_result",
          "data": {
            "text/plain": [
              "device(type='cpu')"
            ]
          },
          "metadata": {},
          "execution_count": 4
        }
      ]
    },
    {
      "cell_type": "markdown",
      "source": [
        "### Dataloaders"
      ],
      "metadata": {
        "id": "bNhrvbDoPrNp"
      }
    },
    {
      "cell_type": "code",
      "source": [
        "transform = transforms.Compose(\n",
        "    [transforms.ToTensor(),\n",
        "     transforms.Normalize((0.4914, 0.4822, 0.4465), (0.247, 0.243, 0.261))]) \n",
        "\n",
        "trainset = torchvision.datasets.CIFAR10(root='./data', train=True,\n",
        "                                        download=True, transform=transform)\n",
        "trainloader = torch.utils.data.DataLoader(trainset, batch_size=256,\n",
        "                                          shuffle=True, num_workers=2)\n",
        "\n",
        "testset = torchvision.datasets.CIFAR10(root='./data', train=False,\n",
        "                                       download=True, transform=transform)\n",
        "testloader = torch.utils.data.DataLoader(testset, batch_size=256,\n",
        "                                         shuffle=False, num_workers=2)\n",
        "\n",
        "classes = ('plane', 'car', 'bird', 'cat',\n",
        "           'deer', 'dog', 'frog', 'horse', 'ship', 'truck')"
      ],
      "metadata": {
        "colab": {
          "base_uri": "https://localhost:8080/"
        },
        "id": "f__3kxl10ZWT",
        "outputId": "5faf8cd4-4e30-4114-ccbc-7008732794e2"
      },
      "execution_count": null,
      "outputs": [
        {
          "output_type": "stream",
          "name": "stdout",
          "text": [
            "Files already downloaded and verified\n",
            "Files already downloaded and verified\n"
          ]
        }
      ]
    },
    {
      "cell_type": "code",
      "source": [
        "from torch.cuda.random import seed\n",
        "new_testset = torch.utils.data.random_split(testset, [1000,9000], generator=torch.Generator().manual_seed(11))[0]"
      ],
      "metadata": {
        "id": "TNbM9I_LQpGM"
      },
      "execution_count": null,
      "outputs": []
    },
    {
      "cell_type": "code",
      "source": [
        "testloader = torch.utils.data.DataLoader(new_testset, batch_size=1,\n",
        "                                         shuffle=False, num_workers=2)"
      ],
      "metadata": {
        "id": "7x9Tiq3WRJ2T"
      },
      "execution_count": null,
      "outputs": []
    },
    {
      "cell_type": "markdown",
      "source": [
        "### Utils"
      ],
      "metadata": {
        "id": "DTEFeiBmcUCE"
      }
    },
    {
      "cell_type": "code",
      "source": [
        "def testAccuracy(model, test_dataloader):\n",
        "    \n",
        "    model.eval()\n",
        "    accuracy = 0.0\n",
        "    total = 0.0\n",
        "    running_loss = 0.0\n",
        "    \n",
        "    with torch.no_grad():\n",
        "        for data in tqdm(test_dataloader):\n",
        "            images, labels = data\n",
        "            \n",
        "            device = torch.device(\"cuda:0\" if torch.cuda.is_available() else \"cpu\")\n",
        "            images = torch.autograd.Variable(images.to(device))\n",
        "            labels = torch.autograd.Variable(labels.to(device))\n",
        "            \n",
        "            # run the model on the test set to predict labels\n",
        "            outputs = model(images)\n",
        "            loss = criterion(outputs, labels)\n",
        "            running_loss += loss.item()\n",
        "\n",
        "            # the label with the highest energy will be our prediction\n",
        "            _, predicted = torch.max(outputs.data, 1)\n",
        "            total += labels.size(0)\n",
        "            accuracy += (predicted == labels).sum().item()\n",
        "\n",
        "    # compute the accuracy over all test images\n",
        "    accuracy = (100 * accuracy / total)\n",
        "    \n",
        "    return(accuracy, running_loss/(len(test_dataloader)))"
      ],
      "metadata": {
        "id": "jV0EJU2dcTm3"
      },
      "execution_count": null,
      "outputs": []
    },
    {
      "cell_type": "code",
      "source": [
        "def train(model, num_epochs):\n",
        "\n",
        "    # Define your execution device\n",
        "    device = torch.device(\"cuda:0\" if torch.cuda.is_available() else \"cpu\")\n",
        "    print(\"The model will be running on\", device, \"device\")\n",
        "    # Convert model parameters and buffers to CPU or Cuda\n",
        "    model.to(device)\n",
        "\n",
        "    train_losses = []\n",
        "    #train_accs = []\n",
        "    test_losses = []\n",
        "    test_accs = []\n",
        "    \n",
        "    for epoch in range(num_epochs):  # loop over the dataset multiple times\n",
        "        running_loss = 0.0\n",
        "        #running_acc = 0.0\n",
        "\n",
        "        for images, labels in tqdm(trainloader):\n",
        "            #print(labels)\n",
        "            # get the inputs\n",
        "            images = torch.autograd.Variable(images.to(device))\n",
        "            labels = torch.autograd.Variable(labels.to(device))\n",
        "\n",
        "            # zero the parameter gradients\n",
        "            optimizer.zero_grad()\n",
        "            # predict classes using images from the training set\n",
        "            outputs = model(images)\n",
        "            # compute the loss based on model output and real labels\n",
        "            loss = criterion(outputs, labels)\n",
        "            # backpropagate the loss\n",
        "            loss.backward()\n",
        "            # adjust parameters based on the calculated gradients\n",
        "            optimizer.step()\n",
        "\n",
        "            # Let's print statistics for every 1,000 images\n",
        "            running_loss += loss.item()     # extract the loss value\n",
        "        \n",
        "        #train_accuracy,train_loss = testAccuracy(trainloader)\n",
        "        #train_accs.append(train_accuracy)\n",
        "        train_losses.append(running_loss/len(trainloader))\n",
        "\n",
        "        # Compute and print the average accuracy fo this epoch when tested over all 10000 test images\n",
        "        accuracy,test_loss = testAccuracy(model, testloader)\n",
        "\n",
        "        test_accs.append(accuracy)\n",
        "        test_losses.append(test_loss)\n",
        "        \n",
        "        print(f'Epoch {epoch+1}--> Train Loss: {running_loss/len(trainloader)}\\t Test Loss: {test_loss}\\t Test Acc: {accuracy}')\n",
        "    \n",
        "    return model, train_losses, test_losses, test_accs"
      ],
      "metadata": {
        "id": "hNjmoeREccR8"
      },
      "execution_count": null,
      "outputs": []
    },
    {
      "cell_type": "code",
      "source": [
        "def ind_acc(test_dataloader, model):\n",
        "    \n",
        "    model.eval()\n",
        "    accuracy = 0.0\n",
        "    total = 0.0\n",
        "    running_loss = 0.0\n",
        "    predictions = []\n",
        "    gt = []\n",
        "    \n",
        "    with torch.no_grad():\n",
        "        for data in tqdm(test_dataloader):\n",
        "            images, labels = data\n",
        "            \n",
        "            device = torch.device(\"cuda:0\" if torch.cuda.is_available() else \"cpu\")\n",
        "            images = torch.autograd.Variable(images.to(device))\n",
        "            labels = torch.autograd.Variable(labels.to(device))\n",
        "            \n",
        "            # run the model on the test set to predict labels\n",
        "            outputs = model(images)\n",
        "            loss = criterion(outputs, labels)\n",
        "            running_loss += loss.item()\n",
        "\n",
        "            # the label with the highest energy will be our prediction\n",
        "            _, predicted = torch.max(outputs.data, 1)\n",
        "            total += labels.size(0)\n",
        "            \n",
        "            predictions.append(np.array(predicted.cpu()))\n",
        "            gt.append(np.array(labels.cpu()))\n",
        "            #print(len(predictions))\n",
        "            accuracy += (predicted == labels).sum().item()\n",
        "\n",
        "    # compute the accuracy over all test images\n",
        "    accuracy = (100 * accuracy / total)\n",
        "    #print('Accuracy of individual: ', accuracy)\n",
        "    return predictions, gt, accuracy"
      ],
      "metadata": {
        "id": "x9R99GqLcjDw"
      },
      "execution_count": null,
      "outputs": []
    },
    {
      "cell_type": "code",
      "source": [
        "def ensemble_acc(n_models):\n",
        "    preds = []\n",
        "    accs = []\n",
        "    for i in range(n_models):\n",
        "        model = Net()\n",
        "        model.load_state_dict(torch.load(f'img_weights/model_{i}.pt'))\n",
        "        _ = model.to(device)\n",
        "\n",
        "        pred, gt, acc = ind_acc(testloader, model)\n",
        "        accs.append(acc)\n",
        "        print(f'Accuracy of model_{i} : ', acc)\n",
        "        preds.append(np.concatenate(pred))\n",
        "        \n",
        "    preds_arr = np.array(preds)\n",
        "    mode = st.mode(preds_arr)\n",
        "    ensemble_decisions = mode.mode.reshape(len(preds[0]),1)\n",
        "    \n",
        "    gt = np.concatenate(gt).reshape(1000,1)\n",
        "    print('Avg Acc of Individuals : ', np.mean(accs))\n",
        "    print('Ensemble Accuracy : ', accuracy_score(gt, ensemble_decisions)*100)"
      ],
      "metadata": {
        "id": "9sIo6qJlc3Ef"
      },
      "execution_count": null,
      "outputs": []
    },
    {
      "cell_type": "code",
      "source": [
        "# FGSM attack code\n",
        "def fgsm_attack(image, epsilon, data_grad):\n",
        "    # Collect the element-wise sign of the data gradient\n",
        "    sign_data_grad = data_grad.sign()\n",
        "    # Create the perturbed image by adjusting each pixel of the input image\n",
        "    perturbed_image = image + epsilon*sign_data_grad\n",
        "    # Adding clipping to maintain [0,1] range\n",
        "    #print(perturbed_image.min(), perturbed_image.max())\n",
        "    perturbed_image = torch.clamp(perturbed_image, 0, 1)\n",
        "    # Return the perturbed image\n",
        "    return perturbed_image"
      ],
      "metadata": {
        "id": "Hku3K8UZc-uk"
      },
      "execution_count": null,
      "outputs": []
    },
    {
      "cell_type": "code",
      "source": [
        "def imshow(img, title):\n",
        "    npimg = img.numpy()\n",
        "    fig = plt.figure(figsize = (5, 15))\n",
        "    plt.imshow(np.transpose(npimg,(1,2,0)))\n",
        "    plt.title(title)\n",
        "    plt.show()"
      ],
      "metadata": {
        "id": "lBid_0FCdBh_"
      },
      "execution_count": null,
      "outputs": []
    },
    {
      "cell_type": "code",
      "source": [
        "def apply_fgsm(eps, model_base):\n",
        "  model_base.eval()\n",
        "\n",
        "  correct = 0\n",
        "  correct_attack = 0\n",
        "  total = 0\n",
        "\n",
        "  for images, labels in tqdm(testloader):\n",
        "      \n",
        "      images = images.to(device)\n",
        "      ####\n",
        "\n",
        "      images_min, images_max = images.min(), images.max()\n",
        "      new_min, new_max = 0.0, 1.0\n",
        "      images = (images - images_min)/(images_max - images_min)*(new_max - new_min) + new_min\n",
        "\n",
        "      ####\n",
        "      images.requires_grad = True      \n",
        "\n",
        "      labels = labels.to(device)\n",
        "      outputs = model_base(images)\n",
        "\n",
        "      loss = criterion(outputs, labels)\n",
        "      model_base.zero_grad()\n",
        "      loss.backward()\n",
        "\n",
        "      data_grad = images.grad.data\n",
        "\n",
        "      images_attack = fgsm_attack(images, eps, data_grad).to(device)\n",
        "      outputs_attack = model_base(images_attack)\n",
        "      \n",
        "      _, pre = torch.max(outputs.data, 1)\n",
        "      _, pre_attack = torch.max(outputs_attack.data, 1)\n",
        "\n",
        "      total += 1\n",
        "      correct += (pre == labels).sum()\n",
        "      correct_attack += (pre_attack == labels).sum()\n",
        "      \n",
        "      if correct == 1:\n",
        "        imshow(torchvision.utils.make_grid(images.cpu().data, normalize=True), [testset.classes[i] for i in pre])\n",
        "        imshow(torchvision.utils.make_grid(images_attack.cpu().data, normalize=True), [testset.classes[i] for i in pre_attack])\n",
        "\n",
        "  print() \n",
        "  print('Accuracy of test text: %f %%' % (100 * float(correct) / total))\n",
        "  print('Accuracy of test text: %f %%' % (100 * float(correct_attack) / total))\n",
        "\n",
        "  return (100 * float(correct) / total), (100 * float(correct_attack) / total)"
      ],
      "metadata": {
        "id": "yyWRhSGjdEZS"
      },
      "execution_count": null,
      "outputs": []
    },
    {
      "cell_type": "code",
      "source": [
        "def apply_fgsm_ensemble(eps, n_models):\n",
        "  \n",
        "  models = []\n",
        "  for i in range(n_models):\n",
        "      model = Net()\n",
        "      model.load_state_dict(torch.load(f'img_weights/model_{i}.pt'))\n",
        "      _ = model.eval()\n",
        "      _ = model.to(device)\n",
        "      models.append(model)\n",
        "    \n",
        "  correct = 0\n",
        "  correct_attack = 0\n",
        "  total = 0\n",
        "\n",
        "  for images, labels in tqdm(testloader):\n",
        "      \n",
        "      images = images.to(device)\n",
        "      \n",
        "      ####\n",
        "      images_min, images_max = images.min(), images.max()\n",
        "      new_min, new_max = 0.0, 1.0\n",
        "      images = (images - images_min)/(images_max - images_min)*(new_max - new_min) + new_min\n",
        "      ####\n",
        "      \n",
        "      images.requires_grad = True      \n",
        "\n",
        "      labels = labels.to(device)\n",
        "      \n",
        "      pre_preds = []\n",
        "      pre_attack_preds = []\n",
        "\n",
        "      for model in models:\n",
        "          outputs = model(images)\n",
        "          loss = criterion(outputs, labels)\n",
        "          model.zero_grad()\n",
        "          loss.backward()\n",
        "          data_grad = images.grad.data\n",
        "\n",
        "          images_attack = fgsm_attack(images, eps, data_grad).to(device)\n",
        "          outputs_attack = model(images_attack)\n",
        "      \n",
        "          _, pre = torch.max(outputs.data, 1)\n",
        "          _, pre_attack = torch.max(outputs_attack.data, 1)\n",
        "          pre_preds.append(int(pre.cpu()))\n",
        "          pre_attack_preds.append(int(pre_attack.cpu()))\n",
        "\n",
        "      pre_preds_arr = np.array(pre_preds)\n",
        "      mode = st.mode(pre_preds_arr)\n",
        "      #print(pre_preds_arr)\n",
        "      #print(mode.mode[0])\n",
        "      pre = mode.mode[0]\n",
        "\n",
        "      pre_attack_preds_arr = np.array(pre_attack_preds)\n",
        "      mode = st.mode(pre_attack_preds_arr)\n",
        "      #print(pre_attack_preds_arr)\n",
        "      #print(mode.mode[0])\n",
        "      pre_attack = mode.mode[0]\n",
        "\n",
        "      total += 1\n",
        "      correct += (pre == labels).sum()\n",
        "      correct_attack += (pre_attack == labels).sum()\n",
        "\n",
        "      \n",
        "  print() \n",
        "  print('Accuracy of test text: %f %%' % (100 * float(correct) / total))\n",
        "  print('Accuracy of test text: %f %%' % (100 * float(correct_attack) / total))\n",
        "\n",
        "  return (100 * float(correct) / total), (100 * float(correct_attack) / total)"
      ],
      "metadata": {
        "id": "0VB0nmLgpzpg"
      },
      "execution_count": null,
      "outputs": []
    },
    {
      "cell_type": "code",
      "source": [
        "def attack_BIM(mean, std, model, image, class_index, epsilon, alpha, num_iterations=10):\n",
        "    '''\n",
        "    Applies given number of steps of the Basic Iterative Method (BIM) attack on the input image.\n",
        "    \n",
        "    Inputs:\n",
        "    mean           -- Mean from data preparation\n",
        "    std            -- Standard deviation from data preparation\n",
        "    model          -- Network under attack\n",
        "    image          -- Image data as tensor of shape (1, 3, 224, 224)\n",
        "    class_index    -- Label from image as numpy array   \n",
        "    epsilon        -- Hyperparameter for sign method. Has to be scaled to epsilon/255\n",
        "    alpha          -- Hyperparameter for iterative step as absolute value. Has to be scaled to alpha/255\n",
        "    num_iterations -- Number of iterations to perform. Default is 10. It is recommended to use the heuristic from the\n",
        "                      paper \"Adversarial Examples in the Pysical World\" to determine the number of iterations\n",
        "    \n",
        "    Returns:\n",
        "    image_adver    -- Adversarial image as tensor\n",
        "    '''\n",
        "    model.to(device)\n",
        "    # Convert label to torch tensor of shape (1)\n",
        "    class_index = torch.tensor([class_index]).to(device)\n",
        "\n",
        "    # Check input image and label shapes\n",
        "    assert(image.shape == torch.Size([1, 3, 32, 32]))\n",
        "    assert(class_index.shape == torch.Size([1]))\n",
        "    \n",
        "    # Initialize adversarial image as image according to equation 2.1\n",
        "    image_adver = image.clone()    \n",
        "    image_adver = image_adver.to(device)\n",
        "    # Calculate normalized range [0, 1] and convert them to tensors\n",
        "    zero_normed = [-m/s for m,s in zip(mean, std)]\n",
        "    zero_normed = torch.tensor(zero_normed, dtype=torch.float).unsqueeze(-1).unsqueeze(-1).to(device)\n",
        "    \n",
        "    max_normed = [(1-m)/s for m,s in zip(mean,std)]\n",
        "    max_normed = torch.tensor(max_normed, dtype=torch.float).unsqueeze(-1).unsqueeze(-1).to(device)\n",
        "    \n",
        "    # Calculate normalized alpha\n",
        "    alpha_normed = [alpha/s for s in std]\n",
        "    alpha_normed = torch.tensor(alpha_normed, dtype=torch.float).unsqueeze(-1).unsqueeze(-1).to(device)\n",
        "\n",
        "    # Calculated normalized epsilon and convert it to a tensor\n",
        "    eps_normed = [epsilon/s for s in std]\n",
        "    eps_normed = torch.tensor(eps_normed, dtype=torch.float).unsqueeze(-1).unsqueeze(-1).to(device)\n",
        "    \n",
        "    # Calculate the maximum change in pixel value using epsilon to be later used in clip function\n",
        "    image_plus = image + eps_normed\n",
        "    image_minus = image - eps_normed\n",
        "    \n",
        "    for i in range(num_iterations):\n",
        "        \n",
        "        # Make a copy and detach so the computation graph can be constructed\n",
        "        image_adver = image_adver.clone().detach().to(device)\n",
        "        image_adver.requires_grad=True\n",
        "        \n",
        "        # Compute cost with example image_adversarial        \n",
        "        pred = model(image_adver)        \n",
        "        loss = criterion(pred, class_index)        \n",
        "        model.zero_grad()        \n",
        "        loss.backward()        \n",
        "        grad_x = image_adver.grad.data       \n",
        "        \n",
        "        # Check if gradient exists\n",
        "        assert(image_adver.grad is not None)\n",
        "               \n",
        "        # Compute X_prime according to equation 2.2\n",
        "        image_prime = image_adver + alpha_normed * grad_x.detach().sign()\n",
        "        assert(torch.equal(image_prime, image_adver) == False)\n",
        "      \n",
        "        # Equation 2.3 part 1\n",
        "        third_part_1 = torch.max(image_minus, image_prime)\n",
        "        third_part = torch.max(zero_normed, third_part_1)\n",
        "              \n",
        "        # Equation 2.3 part 2\n",
        "        image_adver = torch.min(image_plus, third_part)                 \n",
        "        image_adver = torch.min(max_normed, image_adver)                        \n",
        "\n",
        "    return image_adver.to(device)"
      ],
      "metadata": {
        "id": "Dd5c4d5lx5xD"
      },
      "execution_count": null,
      "outputs": []
    },
    {
      "cell_type": "code",
      "source": [
        "def apply_bim(model_base, epsilon, alpha, num_iterations):\n",
        "  model_base.eval()\n",
        "\n",
        "  correct = 0\n",
        "  correct_attack = 0\n",
        "  total = 0\n",
        "\n",
        "  for images, labels in tqdm(testloader):\n",
        "      \n",
        "      images = images.to(device)\n",
        "      ####\n",
        "\n",
        "      images_min, images_max = images.min(), images.max()\n",
        "      new_min, new_max = 0.0, 1.0\n",
        "      images = (images - images_min)/(images_max - images_min)*(new_max - new_min) + new_min\n",
        "\n",
        "      ####\n",
        "      images.requires_grad = True      \n",
        "      \n",
        "      labels = labels.to(device)\n",
        "      outputs = model_base(images)\n",
        "\n",
        "      images_attack = attack_BIM((0.4914, 0.4822, 0.4465), (0.247, 0.243, 0.261), model_base, images, labels, epsilon=epsilon, alpha=alpha, num_iterations=num_iterations).to(device)\n",
        "\n",
        "      outputs_attack = model_base(images_attack)\n",
        "      \n",
        "      _, pre = torch.max(outputs.data, 1)\n",
        "      _, pre_attack = torch.max(outputs_attack.data, 1)\n",
        "\n",
        "      total += 1\n",
        "      correct += (pre == labels).sum()\n",
        "      correct_attack += (pre_attack == labels).sum()\n",
        "\n",
        "      if correct == 1:\n",
        "        imshow(torchvision.utils.make_grid(images.cpu().data, normalize=True), [testset.classes[i] for i in pre])\n",
        "        imshow(torchvision.utils.make_grid(images_attack.cpu().data, normalize=True), [testset.classes[i] for i in pre_attack])\n",
        "\n",
        "  print() \n",
        "  print('Accuracy of test text: %f %%' % (100 * float(correct) / total))\n",
        "  print('Accuracy of test text: %f %%' % (100 * float(correct_attack) / total))\n",
        "\n",
        "  return (100 * float(correct) / total), (100 * float(correct_attack) / total)"
      ],
      "metadata": {
        "id": "lpJpgvxzx9Gq"
      },
      "execution_count": null,
      "outputs": []
    },
    {
      "cell_type": "code",
      "source": [
        "def apply_BIM_ensemble(epsilon, alpha, num_iterations, n_models):\n",
        "  \n",
        "  models = []\n",
        "  for i in range(n_models):\n",
        "      model = Net()\n",
        "      model.load_state_dict(torch.load(f'img_weights/model_{i}.pt'))\n",
        "      _ = model.eval()\n",
        "      _ = model.to(device)\n",
        "      models.append(model)\n",
        "    \n",
        "  correct = 0\n",
        "  correct_attack = 0\n",
        "  total = 0\n",
        "\n",
        "  for images, labels in tqdm(testloader):\n",
        "      \n",
        "      images = images.to(device)\n",
        "      \n",
        "      ####\n",
        "      images_min, images_max = images.min(), images.max()\n",
        "      new_min, new_max = 0.0, 1.0\n",
        "      images = (images - images_min)/(images_max - images_min)*(new_max - new_min) + new_min\n",
        "      ####\n",
        "      \n",
        "      images.requires_grad = True      \n",
        "\n",
        "      labels = labels.to(device)\n",
        "      \n",
        "      pre_preds = []\n",
        "      pre_attack_preds = []\n",
        "\n",
        "      for model in models:\n",
        "          outputs = model(images)\n",
        "          \n",
        "\n",
        "          images_attack = attack_BIM((0.4914, 0.4822, 0.4465), (0.247, 0.243, 0.261), model_base, images, labels, epsilon=epsilon, alpha=alpha, num_iterations=num_iterations).to(device)\n",
        "\n",
        "          outputs_attack = model(images_attack)\n",
        "      \n",
        "          _, pre = torch.max(outputs.data, 1)\n",
        "          _, pre_attack = torch.max(outputs_attack.data, 1)\n",
        "          pre_preds.append(int(pre.cpu()))\n",
        "          pre_attack_preds.append(int(pre_attack.cpu()))\n",
        "\n",
        "      pre_preds_arr = np.array(pre_preds)\n",
        "      mode = st.mode(pre_preds_arr)\n",
        "      pre = mode.mode[0]\n",
        "\n",
        "      pre_attack_preds_arr = np.array(pre_attack_preds)\n",
        "      mode = st.mode(pre_attack_preds_arr)\n",
        "      pre_attack = mode.mode[0]\n",
        "\n",
        "      total += 1\n",
        "      correct += (pre == labels).sum()\n",
        "      correct_attack += (pre_attack == labels).sum()\n",
        "\n",
        "      \n",
        "  print() \n",
        "  print('Accuracy of test text: %f %%' % (100 * float(correct) / total))\n",
        "  print('Accuracy of test text: %f %%' % (100 * float(correct_attack) / total))\n",
        "\n",
        "  return (100 * float(correct) / total), (100 * float(correct_attack) / total)"
      ],
      "metadata": {
        "id": "5RCTNsQ11ZuG"
      },
      "execution_count": null,
      "outputs": []
    },
    {
      "cell_type": "code",
      "source": [
        "def attack_ILLM(mean, std, model, image, class_index, epsilon, alpha, num_iterations=10):\n",
        "    '''\n",
        "    Applies given number of steps of the Iterative Least Likely Method (ILLM) attack on the input image.\n",
        "    \n",
        "    Inputs:\n",
        "    mean           -- Mean from data preparation\n",
        "    std            -- Standard deviation from data preparation\n",
        "    model          -- Network under attack\n",
        "    image          -- Image data as tensor of shape (1, 3, 224, 224)\n",
        "    class_index    -- Label from image as numpy array   \n",
        "    epsilon        -- Hyperparameter for sign method. Has to be scaled to epsilon/255\n",
        "    alpha          -- Hyperparameter for iterative step as absolute value. Has to be scaled to alpha/255\n",
        "    num_iterations -- Number of iterations to perform. Default is 10. It is recommended to use the heuristic from the\n",
        "                      paper \"Adversarial Examples in the Pysical World\" to determine the number of iterations\n",
        "    \n",
        "    Returns:\n",
        "    image_adver    -- Adversarial image as tensor\n",
        "    '''\n",
        "    model.to(device)\n",
        "    # Convert label to torch tensor of shape (1)\n",
        "    class_index = torch.tensor([class_index]).to(device)\n",
        "\n",
        "    # Check input image and label shapes\n",
        "    assert(image.shape == torch.Size([1, 3, 32, 32]))\n",
        "    assert(class_index.shape == torch.Size([1]))\n",
        "    \n",
        "    # Initialize adversarial image as image according to equation 3.1\n",
        "    image_adver = image.clone().to(device)   \n",
        "    \n",
        "    # Calculate normalized range [0, 1] and convert them to tensors\n",
        "    zero_normed = [-m/s for m,s in zip(mean, std)]\n",
        "    zero_normed = torch.tensor(zero_normed, dtype=torch.float).unsqueeze(-1).unsqueeze(-1).to(device)\n",
        "    \n",
        "    max_normed = [(1-m)/s for m,s in zip(mean,std)]\n",
        "    max_normed = torch.tensor(max_normed, dtype=torch.float).unsqueeze(-1).unsqueeze(-1).to(device)\n",
        "    \n",
        "    # Calculate normalized alpha\n",
        "    alpha_normed = [alpha/s for s in std]\n",
        "    alpha_normed = torch.tensor(alpha_normed, dtype=torch.float).unsqueeze(-1).unsqueeze(-1).to(device)\n",
        "\n",
        "    # Calculated normalized epsilon and convert it to a tensor\n",
        "    eps_normed = [epsilon/s for s in std]\n",
        "    eps_normed = torch.tensor(eps_normed, dtype=torch.float).unsqueeze(-1).unsqueeze(-1).to(device)\n",
        "    \n",
        "    # Calculate the maximum change in pixel value using epsilon to be later used in clip function\n",
        "    image_plus = image + eps_normed\n",
        "    image_minus = image - eps_normed\n",
        "    \n",
        "    for i in range(num_iterations):\n",
        "        \n",
        "        # Make a copy and detach so the computation graph can be constructed\n",
        "        image_adver = image_adver.clone().detach()\n",
        "        image_adver.requires_grad=True\n",
        "        \n",
        "        # Compute gradient of cost with least likely class     \n",
        "        pred = model(image_adver)\n",
        "        least_likeliest_class = torch.argmin(pred)\n",
        "        least_likeliest_class.unsqueeze_(0)     \n",
        "        loss = criterion(pred, least_likeliest_class)        \n",
        "        model.zero_grad()        \n",
        "        loss.backward()        \n",
        "        grad_x = image_adver.grad.data       \n",
        "\n",
        "        # Check if gradient exists\n",
        "        assert(image_adver.grad is not None)\n",
        "               \n",
        "        # Compute X_prime according to equation 3.2\n",
        "        image_prime = image_adver - alpha_normed * grad_x.detach().sign()\n",
        "        assert(torch.equal(image_prime, image_adver) == False)\n",
        "      \n",
        "        # Equation 3.3 part 1\n",
        "        third_part_1 = torch.max(image_minus, image_prime)\n",
        "        third_part = torch.max(zero_normed, third_part_1)\n",
        "              \n",
        "        # Equation 3.3 part 2\n",
        "        image_adver = torch.min(image_plus, third_part)                 \n",
        "        image_adver = torch.min(max_normed, image_adver)                        \n",
        "\n",
        "    return image_adver.to(device)"
      ],
      "metadata": {
        "id": "dgjUYlGo216t"
      },
      "execution_count": null,
      "outputs": []
    },
    {
      "cell_type": "code",
      "source": [
        "def apply_illm(model_base, epsilon, alpha, num_iterations):\n",
        "  model_base.eval()\n",
        "\n",
        "  correct = 0\n",
        "  correct_attack = 0\n",
        "  total = 0\n",
        "\n",
        "  for images, labels in tqdm(testloader):\n",
        "      \n",
        "      images = images.to(device)\n",
        "      ####\n",
        "\n",
        "      images_min, images_max = images.min(), images.max()\n",
        "      new_min, new_max = 0.0, 1.0\n",
        "      images = (images - images_min)/(images_max - images_min)*(new_max - new_min) + new_min\n",
        "\n",
        "      ####\n",
        "      images.requires_grad = True      \n",
        "      \n",
        "      labels = labels.to(device)\n",
        "      outputs = model_base(images)\n",
        "\n",
        "      images_attack = attack_ILLM((0.4914, 0.4822, 0.4465), (0.247, 0.243, 0.261), model_base, images, labels, epsilon=epsilon, alpha=alpha, num_iterations=num_iterations).to(device)\n",
        "\n",
        "      outputs_attack = model_base(images_attack)\n",
        "      \n",
        "      _, pre = torch.max(outputs.data, 1)\n",
        "      _, pre_attack = torch.max(outputs_attack.data, 1)\n",
        "\n",
        "      total += 1\n",
        "      correct += (pre == labels).sum()\n",
        "      correct_attack += (pre_attack == labels).sum()\n",
        "\n",
        "      if correct == 1:\n",
        "        imshow(torchvision.utils.make_grid(images.cpu().data, normalize=True), [testset.classes[i] for i in pre])\n",
        "        imshow(torchvision.utils.make_grid(images_attack.cpu().data, normalize=True), [testset.classes[i] for i in pre_attack])\n",
        "\n",
        "  print() \n",
        "  print('Accuracy of test text: %f %%' % (100 * float(correct) / total))\n",
        "  print('Accuracy of test text: %f %%' % (100 * float(correct_attack) / total))\n",
        "\n",
        "  return (100 * float(correct) / total), (100 * float(correct_attack) / total)"
      ],
      "metadata": {
        "id": "t_kLTpYA25aT"
      },
      "execution_count": null,
      "outputs": []
    },
    {
      "cell_type": "code",
      "source": [
        "def apply_ILLM_ensemble(epsilon, alpha, num_iterations, n_models):\n",
        "  \n",
        "  models = []\n",
        "  for i in range(n_models):\n",
        "      model = Net()\n",
        "      model.load_state_dict(torch.load(f'img_weights/model_{i}.pt'))\n",
        "      _ = model.eval()\n",
        "      _ = model.to(device)\n",
        "      models.append(model)\n",
        "    \n",
        "  correct = 0\n",
        "  correct_attack = 0\n",
        "  total = 0\n",
        "\n",
        "  for images, labels in tqdm(testloader):\n",
        "      \n",
        "      images = images.to(device)\n",
        "      \n",
        "      ####\n",
        "      images_min, images_max = images.min(), images.max()\n",
        "      new_min, new_max = 0.0, 1.0\n",
        "      images = (images - images_min)/(images_max - images_min)*(new_max - new_min) + new_min\n",
        "      ####\n",
        "      \n",
        "      images.requires_grad = True      \n",
        "\n",
        "      labels = labels.to(device)\n",
        "      \n",
        "      pre_preds = []\n",
        "      pre_attack_preds = []\n",
        "\n",
        "      for model in models:\n",
        "          outputs = model(images)\n",
        "\n",
        "          images_attack = attack_ILLM((0.4914, 0.4822, 0.4465), (0.247, 0.243, 0.261), model_base, images, labels, epsilon=epsilon, alpha=alpha, num_iterations=num_iterations).to(device)\n",
        "\n",
        "          outputs_attack = model(images_attack)\n",
        "      \n",
        "          _, pre = torch.max(outputs.data, 1)\n",
        "          _, pre_attack = torch.max(outputs_attack.data, 1)\n",
        "          pre_preds.append(int(pre.cpu()))\n",
        "          pre_attack_preds.append(int(pre_attack.cpu()))\n",
        "\n",
        "      pre_preds_arr = np.array(pre_preds)\n",
        "      mode = st.mode(pre_preds_arr)\n",
        "      pre = mode.mode[0]\n",
        "\n",
        "      pre_attack_preds_arr = np.array(pre_attack_preds)\n",
        "      mode = st.mode(pre_attack_preds_arr)\n",
        "      pre_attack = mode.mode[0]\n",
        "\n",
        "      total += 1\n",
        "      correct += (pre == labels).sum()\n",
        "      correct_attack += (pre_attack == labels).sum()\n",
        "\n",
        "  print() \n",
        "  print('Accuracy of test text: %f %%' % (100 * float(correct) / total))\n",
        "  print('Accuracy of test text: %f %%' % (100 * float(correct_attack) / total))\n",
        "\n",
        "  return (100 * float(correct) / total), (100 * float(correct_attack) / total)"
      ],
      "metadata": {
        "id": "mR-3YWL83qWV"
      },
      "execution_count": null,
      "outputs": []
    },
    {
      "cell_type": "code",
      "source": [
        "def apply_torchattacks(model_base, attack):\n",
        "  \n",
        "  model_base.eval()\n",
        "\n",
        "  correct = 0\n",
        "  correct_attack = 0\n",
        "  total = 0\n",
        "\n",
        "  for images, labels in tqdm(testloader):\n",
        "      \n",
        "      images = images.to(device)\n",
        "      ####\n",
        "\n",
        "      images_min, images_max = images.min(), images.max()\n",
        "      new_min, new_max = 0.0, 1.0\n",
        "      images = (images - images_min)/(images_max - images_min)*(new_max - new_min) + new_min\n",
        "\n",
        "      ####\n",
        "      images.requires_grad = True      \n",
        "      \n",
        "      labels = labels.to(device)\n",
        "      outputs = model_base(images)\n",
        "\n",
        "      images_attack = attack(images, labels)\n",
        "\n",
        "      outputs_attack = model_base(images_attack)\n",
        "      \n",
        "      _, pre = torch.max(outputs.data, 1)\n",
        "      _, pre_attack = torch.max(outputs_attack.data, 1)\n",
        "\n",
        "      total += 1\n",
        "      correct += (pre == labels).sum()\n",
        "      correct_attack += (pre_attack == labels).sum()\n",
        "\n",
        "      if correct == 1:\n",
        "        imshow(torchvision.utils.make_grid(images.cpu().data, normalize=True), [testset.classes[i] for i in pre])\n",
        "        imshow(torchvision.utils.make_grid(images_attack.cpu().data, normalize=True), [testset.classes[i] for i in pre_attack])\n",
        "\n",
        "  print() \n",
        "  print('Accuracy of test text: %f %%' % (100 * float(correct) / total))\n",
        "  print('Accuracy of test text: %f %%' % (100 * float(correct_attack) / total))\n",
        "\n",
        "  return (100 * float(correct) / total), (100 * float(correct_attack) / total)"
      ],
      "metadata": {
        "id": "V9pYOwHCK0pP"
      },
      "execution_count": null,
      "outputs": []
    },
    {
      "cell_type": "code",
      "source": [
        "def apply_deepfool_ensemble(steps, overshoot, n_models):\n",
        "  \n",
        "  models = []\n",
        "  deepfools = []\n",
        "  for i in range(n_models):\n",
        "      model = Net()\n",
        "      model.load_state_dict(torch.load(f'img_weights/model_{i}.pt'))\n",
        "      _ = model.eval()\n",
        "      _ = model.to(device)\n",
        "      models.append(model)\n",
        "      deepfool = torchattacks.DeepFool(model, steps=steps, overshoot=overshoot)\n",
        "      deepfools.append(deepfool)\n",
        "\n",
        "    \n",
        "  correct = 0\n",
        "  correct_attack = 0\n",
        "  total = 0\n",
        "\n",
        "  for images, labels in tqdm(testloader):\n",
        "      \n",
        "      images = images.to(device)\n",
        "      \n",
        "      ####\n",
        "      images_min, images_max = images.min(), images.max()\n",
        "      new_min, new_max = 0.0, 1.0\n",
        "      images = (images - images_min)/(images_max - images_min)*(new_max - new_min) + new_min\n",
        "      ####\n",
        "      \n",
        "      images.requires_grad = True      \n",
        "\n",
        "      labels = labels.to(device)\n",
        "      \n",
        "      pre_preds = []\n",
        "      pre_attack_preds = []\n",
        "\n",
        "      for i, model in enumerate(models):\n",
        "\n",
        "          outputs = model(images)\n",
        "          \n",
        "          images_attack = deepfools[i](images, labels)\n",
        "          outputs_attack = model(images_attack)\n",
        "      \n",
        "          _, pre = torch.max(outputs.data, 1)\n",
        "          _, pre_attack = torch.max(outputs_attack.data, 1)\n",
        "          pre_preds.append(int(pre.cpu()))\n",
        "          pre_attack_preds.append(int(pre_attack.cpu()))\n",
        "\n",
        "      pre_preds_arr = np.array(pre_preds)\n",
        "      mode = st.mode(pre_preds_arr)\n",
        "      pre = mode.mode[0]\n",
        "\n",
        "      pre_attack_preds_arr = np.array(pre_attack_preds)\n",
        "      mode = st.mode(pre_attack_preds_arr)\n",
        "      pre_attack = mode.mode[0]\n",
        "\n",
        "      total += 1\n",
        "      correct += (pre == labels).sum()\n",
        "      correct_attack += (pre_attack == labels).sum()\n",
        "\n",
        "\n",
        "  print() \n",
        "  print('Accuracy of test text: %f %%' % (100 * float(correct) / total))\n",
        "  print('Accuracy of test text: %f %%' % (100 * float(correct_attack) / total))\n",
        "\n",
        "  return (100 * float(correct) / total), (100 * float(correct_attack) / total)"
      ],
      "metadata": {
        "id": "nj8Lt1wCK2ox"
      },
      "execution_count": null,
      "outputs": []
    },
    {
      "cell_type": "code",
      "source": [
        "def apply_onepixel_ensemble(pixels=1, steps=10, popsize=10, inf_batch=128, n_models=10):\n",
        "  \n",
        "  models = []\n",
        "  one_pixels = []\n",
        "  for i in range(n_models):\n",
        "      model = Net()\n",
        "      model.load_state_dict(torch.load(f'img_weights/model_{i}.pt'))\n",
        "      _ = model.eval()\n",
        "      _ = model.to(device)\n",
        "      models.append(model)\n",
        "      one_pixel = torchattacks.OnePixel(model, pixels=pixels, steps=steps, popsize=popsize, inf_batch=inf_batch)\n",
        "      one_pixels.append(one_pixel)\n",
        "\n",
        "    \n",
        "  correct = 0\n",
        "  correct_attack = 0\n",
        "  total = 0\n",
        "\n",
        "  for images, labels in tqdm(testloader):\n",
        "      \n",
        "      images = images.to(device)\n",
        "      \n",
        "      ####\n",
        "      images_min, images_max = images.min(), images.max()\n",
        "      new_min, new_max = 0.0, 1.0\n",
        "      images = (images - images_min)/(images_max - images_min)*(new_max - new_min) + new_min\n",
        "      ####\n",
        "      \n",
        "      images.requires_grad = True      \n",
        "\n",
        "      labels = labels.to(device)\n",
        "      \n",
        "      pre_preds = []\n",
        "      pre_attack_preds = []\n",
        "\n",
        "      for i, model in enumerate(models):\n",
        "\n",
        "          outputs = model(images)\n",
        "          \n",
        "          images_attack = one_pixels[i](images, labels)\n",
        "          outputs_attack = model(images_attack)\n",
        "      \n",
        "          _, pre = torch.max(outputs.data, 1)\n",
        "          _, pre_attack = torch.max(outputs_attack.data, 1)\n",
        "          pre_preds.append(int(pre.cpu()))\n",
        "          pre_attack_preds.append(int(pre_attack.cpu()))\n",
        "\n",
        "      pre_preds_arr = np.array(pre_preds)\n",
        "      mode = st.mode(pre_preds_arr)\n",
        "      pre = mode.mode[0]\n",
        "\n",
        "      pre_attack_preds_arr = np.array(pre_attack_preds)\n",
        "      mode = st.mode(pre_attack_preds_arr)\n",
        "      pre_attack = mode.mode[0]\n",
        "\n",
        "      total += 1\n",
        "      correct += (pre == labels).sum()\n",
        "      correct_attack += (pre_attack == labels).sum()\n",
        "\n",
        "  print() \n",
        "  print('Accuracy of test text: %f %%' % (100 * float(correct) / total))\n",
        "  print('Accuracy of test text: %f %%' % (100 * float(correct_attack) / total))\n",
        "\n",
        "  return (100 * float(correct) / total), (100 * float(correct_attack) / total)"
      ],
      "metadata": {
        "id": "oSF0tb0oK495"
      },
      "execution_count": null,
      "outputs": []
    },
    {
      "cell_type": "code",
      "source": [
        "def apply_cw(model_base, attack):\n",
        "  \n",
        "  model_base.eval()\n",
        "\n",
        "  correct = 0\n",
        "  correct_attack = 0\n",
        "  total = 0\n",
        "\n",
        "  for images, labels in tqdm(testloader):\n",
        "      \n",
        "      images = images\n",
        "      ####\n",
        "\n",
        "      images_min, images_max = images.min(), images.max()\n",
        "      new_min, new_max = 0.0, 1.0\n",
        "      images = (images - images_min)/(images_max - images_min)*(new_max - new_min) + new_min\n",
        "\n",
        "      ####\n",
        "      images.requires_grad = True      \n",
        "      \n",
        "      labels = labels\n",
        "      outputs = model_base(images)\n",
        "\n",
        "      images_attack = attack(images, labels)\n",
        "\n",
        "      outputs_attack = model_base(images_attack)\n",
        "      \n",
        "      _, pre = torch.max(outputs.data, 1)\n",
        "      _, pre_attack = torch.max(outputs_attack.data, 1)\n",
        "\n",
        "      total += 1\n",
        "      correct += (pre == labels).sum()\n",
        "      correct_attack += (pre_attack == labels).sum()\n",
        "\n",
        "      if correct == 1:\n",
        "        imshow(torchvision.utils.make_grid(images.cpu().data, normalize=True), [testset.classes[i] for i in pre])\n",
        "        imshow(torchvision.utils.make_grid(images_attack.cpu().data, normalize=True), [testset.classes[i] for i in pre_attack])\n",
        "\n",
        "  print() \n",
        "  print('Accuracy of test text: %f %%' % (100 * float(correct) / total))\n",
        "  print('Accuracy of test text: %f %%' % (100 * float(correct_attack) / total))\n",
        "\n",
        "  return (100 * float(correct) / total), (100 * float(correct_attack) / total)"
      ],
      "metadata": {
        "id": "4c7QgKxBLSF5"
      },
      "execution_count": null,
      "outputs": []
    },
    {
      "cell_type": "code",
      "source": [
        "def apply_cw_ensemble(c=1, kappa=0, steps=10, lr=0.01, n_models=10):\n",
        "  \n",
        "  models = []\n",
        "  cws = []\n",
        "  for i in range(n_models):\n",
        "      model = Net()\n",
        "      model.load_state_dict(torch.load(f'img_weights/model_{i}.pt'))\n",
        "      _ = model.eval()\n",
        "      models.append(model)\n",
        "      cw = torchattacks.CW(model, c=c, kappa=kappa, steps=steps, lr=lr)\n",
        "      cws.append(cw)\n",
        "\n",
        "    \n",
        "  correct = 0\n",
        "  correct_attack = 0\n",
        "  total = 0\n",
        "\n",
        "  for images, labels in tqdm(testloader):\n",
        "      \n",
        "      images = images\n",
        "      \n",
        "      ####\n",
        "      images_min, images_max = images.min(), images.max()\n",
        "      new_min, new_max = 0.0, 1.0\n",
        "      images = (images - images_min)/(images_max - images_min)*(new_max - new_min) + new_min\n",
        "      ####\n",
        "      \n",
        "      images.requires_grad = True      \n",
        "\n",
        "      labels = labels\n",
        "      \n",
        "      pre_preds = []\n",
        "      pre_attack_preds = []\n",
        "\n",
        "      for i, model in enumerate(models):\n",
        "\n",
        "          outputs = model(images)\n",
        "          \n",
        "          images_attack = cws[i](images, labels)\n",
        "          outputs_attack = model(images_attack)\n",
        "      \n",
        "          _, pre = torch.max(outputs.data, 1)\n",
        "          _, pre_attack = torch.max(outputs_attack.data, 1)\n",
        "          pre_preds.append(int(pre.cpu()))\n",
        "          pre_attack_preds.append(int(pre_attack.cpu()))\n",
        "\n",
        "      pre_preds_arr = np.array(pre_preds)\n",
        "      mode = st.mode(pre_preds_arr)\n",
        "      pre = mode.mode[0]\n",
        "\n",
        "      pre_attack_preds_arr = np.array(pre_attack_preds)\n",
        "      mode = st.mode(pre_attack_preds_arr)\n",
        "      pre_attack = mode.mode[0]\n",
        "\n",
        "      total += 1\n",
        "      correct += (pre == labels).sum()\n",
        "      correct_attack += (pre_attack == labels).sum()\n",
        "\n",
        "\n",
        "  print() \n",
        "  print('Accuracy of test text: %f %%' % (100 * float(correct) / total))\n",
        "  print('Accuracy of test text: %f %%' % (100 * float(correct_attack) / total))\n",
        "\n",
        "  return (100 * float(correct) / total), (100 * float(correct_attack) / total)"
      ],
      "metadata": {
        "id": "T8yjZNkqLW9a"
      },
      "execution_count": null,
      "outputs": []
    },
    {
      "cell_type": "markdown",
      "source": [
        "### Model"
      ],
      "metadata": {
        "id": "M78rTLEG3ee-"
      }
    },
    {
      "cell_type": "code",
      "source": [
        "class Net(nn.Module):\n",
        "    def __init__(self):\n",
        "        super().__init__()\n",
        "        self.conv1 = nn.Conv2d(3, 6, 5)\n",
        "        self.pool = nn.MaxPool2d(2, 2)\n",
        "        self.conv2 = nn.Conv2d(6, 16, 5)\n",
        "        self.fc1 = nn.Linear(16 * 5 * 5, 120)\n",
        "        self.fc2 = nn.Linear(120, 84)\n",
        "        self.fc3 = nn.Linear(84, 10)\n",
        "\n",
        "    def forward(self, x):\n",
        "        ###\n",
        "        x_min, x_max = x.min(), x.max()\n",
        "        new_min, new_max = 0.0, 1.0\n",
        "        x = (x - x_min)/(x_max - x_min)*(new_max - new_min) + new_min\n",
        "        #print(x.min(), x.max())\n",
        "        ###\n",
        "        x = self.pool(F.relu(self.conv1(x)))\n",
        "        x = self.pool(F.relu(self.conv2(x)))\n",
        "        x = torch.flatten(x, 1) # flatten all dimensions except batch\n",
        "        x = F.relu(self.fc1(x))\n",
        "        x = F.relu(self.fc2(x))\n",
        "        x = self.fc3(x)\n",
        "        return x"
      ],
      "metadata": {
        "id": "BVsWqoBs02dq"
      },
      "execution_count": null,
      "outputs": []
    },
    {
      "cell_type": "code",
      "source": [
        "model_base = Net()"
      ],
      "metadata": {
        "id": "8fvRRS1x0lC9"
      },
      "execution_count": null,
      "outputs": []
    },
    {
      "cell_type": "code",
      "source": [
        "criterion = nn.CrossEntropyLoss()\n",
        "optimizer = optim.Adam(model_base.parameters())"
      ],
      "metadata": {
        "id": "sxttdapH0shG"
      },
      "execution_count": null,
      "outputs": []
    },
    {
      "cell_type": "code",
      "source": [
        "model_base"
      ],
      "metadata": {
        "colab": {
          "base_uri": "https://localhost:8080/"
        },
        "id": "rRC0ZIbWefQj",
        "outputId": "a625aa57-a9f8-4d9e-f412-205a1e127c75"
      },
      "execution_count": null,
      "outputs": [
        {
          "output_type": "execute_result",
          "data": {
            "text/plain": [
              "Net(\n",
              "  (conv1): Conv2d(3, 6, kernel_size=(5, 5), stride=(1, 1))\n",
              "  (pool): MaxPool2d(kernel_size=2, stride=2, padding=0, dilation=1, ceil_mode=False)\n",
              "  (conv2): Conv2d(6, 16, kernel_size=(5, 5), stride=(1, 1))\n",
              "  (fc1): Linear(in_features=400, out_features=120, bias=True)\n",
              "  (fc2): Linear(in_features=120, out_features=84, bias=True)\n",
              "  (fc3): Linear(in_features=84, out_features=10, bias=True)\n",
              ")"
            ]
          },
          "metadata": {},
          "execution_count": 8
        }
      ]
    },
    {
      "cell_type": "markdown",
      "source": [
        "### Training"
      ],
      "metadata": {
        "id": "4E_AXkAgXSwF"
      }
    },
    {
      "cell_type": "code",
      "source": [
        "#model_base, train_losses, test_losses, test_accs = train(model_base, 20)"
      ],
      "metadata": {
        "colab": {
          "base_uri": "https://localhost:8080/"
        },
        "id": "-a131YVR2Ojv",
        "outputId": "a7ada734-510e-489a-8b3a-b35dae0a5ca1"
      },
      "execution_count": null,
      "outputs": [
        {
          "metadata": {
            "tags": null
          },
          "name": "stdout",
          "output_type": "stream",
          "text": [
            "The model will be running on cuda:0 device\n"
          ]
        },
        {
          "metadata": {
            "tags": null
          },
          "name": "stderr",
          "output_type": "stream",
          "text": [
            "100%|██████████| 196/196 [00:17<00:00, 10.95it/s]\n",
            "100%|██████████| 40/40 [00:02<00:00, 18.94it/s]\n"
          ]
        },
        {
          "metadata": {
            "tags": null
          },
          "name": "stdout",
          "output_type": "stream",
          "text": [
            "Epoch 1--> Train Loss: 1.9727046568782962\t Test Loss: 1.7948860734701158\t Test Acc: 33.9\n"
          ]
        },
        {
          "metadata": {
            "tags": null
          },
          "name": "stderr",
          "output_type": "stream",
          "text": [
            "100%|██████████| 196/196 [00:10<00:00, 18.51it/s]\n",
            "100%|██████████| 40/40 [00:03<00:00, 13.21it/s]\n"
          ]
        },
        {
          "metadata": {
            "tags": null
          },
          "name": "stdout",
          "output_type": "stream",
          "text": [
            "Epoch 2--> Train Loss: 1.7227625542757463\t Test Loss: 1.661147740483284\t Test Acc: 39.4\n"
          ]
        },
        {
          "metadata": {
            "tags": null
          },
          "name": "stderr",
          "output_type": "stream",
          "text": [
            "100%|██████████| 196/196 [00:12<00:00, 16.32it/s]\n",
            "100%|██████████| 40/40 [00:02<00:00, 18.40it/s]\n"
          ]
        },
        {
          "metadata": {
            "tags": null
          },
          "name": "stdout",
          "output_type": "stream",
          "text": [
            "Epoch 3--> Train Loss: 1.6232909967704696\t Test Loss: 1.557965874671936\t Test Acc: 42.95\n"
          ]
        },
        {
          "metadata": {
            "tags": null
          },
          "name": "stderr",
          "output_type": "stream",
          "text": [
            "100%|██████████| 196/196 [00:10<00:00, 18.45it/s]\n",
            "100%|██████████| 40/40 [00:02<00:00, 18.67it/s]\n"
          ]
        },
        {
          "metadata": {
            "tags": null
          },
          "name": "stdout",
          "output_type": "stream",
          "text": [
            "Epoch 4--> Train Loss: 1.5365587126235574\t Test Loss: 1.4805147886276244\t Test Acc: 45.93\n"
          ]
        },
        {
          "metadata": {
            "tags": null
          },
          "name": "stderr",
          "output_type": "stream",
          "text": [
            "100%|██████████| 196/196 [00:10<00:00, 18.68it/s]\n",
            "100%|██████████| 40/40 [00:02<00:00, 18.55it/s]\n"
          ]
        },
        {
          "metadata": {
            "tags": null
          },
          "name": "stdout",
          "output_type": "stream",
          "text": [
            "Epoch 5--> Train Loss: 1.47189647141768\t Test Loss: 1.4674995064735412\t Test Acc: 46.0\n"
          ]
        },
        {
          "metadata": {
            "tags": null
          },
          "name": "stderr",
          "output_type": "stream",
          "text": [
            "100%|██████████| 196/196 [00:10<00:00, 18.51it/s]\n",
            "100%|██████████| 40/40 [00:02<00:00, 17.69it/s]\n"
          ]
        },
        {
          "metadata": {
            "tags": null
          },
          "name": "stdout",
          "output_type": "stream",
          "text": [
            "Epoch 6--> Train Loss: 1.4137340711087596\t Test Loss: 1.3797660410404204\t Test Acc: 49.81\n"
          ]
        },
        {
          "metadata": {
            "tags": null
          },
          "name": "stderr",
          "output_type": "stream",
          "text": [
            "100%|██████████| 196/196 [00:11<00:00, 16.91it/s]\n",
            "100%|██████████| 40/40 [00:02<00:00, 18.51it/s]\n"
          ]
        },
        {
          "metadata": {
            "tags": null
          },
          "name": "stdout",
          "output_type": "stream",
          "text": [
            "Epoch 7--> Train Loss: 1.3641126313988043\t Test Loss: 1.3394270271062851\t Test Acc: 50.8\n"
          ]
        },
        {
          "metadata": {
            "tags": null
          },
          "name": "stderr",
          "output_type": "stream",
          "text": [
            "100%|██████████| 196/196 [00:10<00:00, 18.59it/s]\n",
            "100%|██████████| 40/40 [00:02<00:00, 19.05it/s]\n"
          ]
        },
        {
          "metadata": {
            "tags": null
          },
          "name": "stdout",
          "output_type": "stream",
          "text": [
            "Epoch 8--> Train Loss: 1.3334501501248808\t Test Loss: 1.3296662837266922\t Test Acc: 51.73\n"
          ]
        },
        {
          "metadata": {
            "tags": null
          },
          "name": "stderr",
          "output_type": "stream",
          "text": [
            "100%|██████████| 196/196 [00:11<00:00, 16.96it/s]\n",
            "100%|██████████| 40/40 [00:02<00:00, 18.94it/s]\n"
          ]
        },
        {
          "metadata": {
            "tags": null
          },
          "name": "stdout",
          "output_type": "stream",
          "text": [
            "Epoch 9--> Train Loss: 1.3000664352154245\t Test Loss: 1.2896848261356353\t Test Acc: 53.34\n"
          ]
        },
        {
          "metadata": {
            "tags": null
          },
          "name": "stderr",
          "output_type": "stream",
          "text": [
            "100%|██████████| 196/196 [00:10<00:00, 18.53it/s]\n",
            "100%|██████████| 40/40 [00:02<00:00, 15.90it/s]\n"
          ]
        },
        {
          "metadata": {
            "tags": null
          },
          "name": "stdout",
          "output_type": "stream",
          "text": [
            "Epoch 10--> Train Loss: 1.261041830388867\t Test Loss: 1.302107760310173\t Test Acc: 53.36\n"
          ]
        },
        {
          "metadata": {
            "tags": null
          },
          "name": "stderr",
          "output_type": "stream",
          "text": [
            "100%|██████████| 196/196 [00:10<00:00, 18.58it/s]\n",
            "100%|██████████| 40/40 [00:02<00:00, 18.90it/s]\n"
          ]
        },
        {
          "metadata": {
            "tags": null
          },
          "name": "stdout",
          "output_type": "stream",
          "text": [
            "Epoch 11--> Train Loss: 1.243337824636576\t Test Loss: 1.2510583370923996\t Test Acc: 55.67\n"
          ]
        },
        {
          "metadata": {
            "tags": null
          },
          "name": "stderr",
          "output_type": "stream",
          "text": [
            "100%|██████████| 196/196 [00:10<00:00, 18.31it/s]\n",
            "100%|██████████| 40/40 [00:02<00:00, 18.26it/s]\n"
          ]
        },
        {
          "metadata": {
            "tags": null
          },
          "name": "stdout",
          "output_type": "stream",
          "text": [
            "Epoch 12--> Train Loss: 1.2100814973213234\t Test Loss: 1.2287875235080719\t Test Acc: 55.96\n"
          ]
        },
        {
          "metadata": {
            "tags": null
          },
          "name": "stderr",
          "output_type": "stream",
          "text": [
            "100%|██████████| 196/196 [00:10<00:00, 18.67it/s]\n",
            "100%|██████████| 40/40 [00:02<00:00, 18.65it/s]\n"
          ]
        },
        {
          "metadata": {
            "tags": null
          },
          "name": "stdout",
          "output_type": "stream",
          "text": [
            "Epoch 13--> Train Loss: 1.1873722350110814\t Test Loss: 1.2166138112545013\t Test Acc: 56.38\n"
          ]
        },
        {
          "metadata": {
            "tags": null
          },
          "name": "stderr",
          "output_type": "stream",
          "text": [
            "100%|██████████| 196/196 [00:10<00:00, 18.88it/s]\n",
            "100%|██████████| 40/40 [00:02<00:00, 18.70it/s]\n"
          ]
        },
        {
          "metadata": {
            "tags": null
          },
          "name": "stdout",
          "output_type": "stream",
          "text": [
            "Epoch 14--> Train Loss: 1.1660331162262936\t Test Loss: 1.199686849117279\t Test Acc: 57.83\n"
          ]
        },
        {
          "metadata": {
            "tags": null
          },
          "name": "stderr",
          "output_type": "stream",
          "text": [
            "100%|██████████| 196/196 [00:11<00:00, 17.29it/s]\n",
            "100%|██████████| 40/40 [00:02<00:00, 18.43it/s]\n"
          ]
        },
        {
          "metadata": {
            "tags": null
          },
          "name": "stdout",
          "output_type": "stream",
          "text": [
            "Epoch 15--> Train Loss: 1.1448380308491843\t Test Loss: 1.2059760093688965\t Test Acc: 57.36\n"
          ]
        },
        {
          "metadata": {
            "tags": null
          },
          "name": "stderr",
          "output_type": "stream",
          "text": [
            "100%|██████████| 196/196 [00:10<00:00, 18.48it/s]\n",
            "100%|██████████| 40/40 [00:02<00:00, 18.40it/s]\n"
          ]
        },
        {
          "metadata": {
            "tags": null
          },
          "name": "stdout",
          "output_type": "stream",
          "text": [
            "Epoch 16--> Train Loss: 1.1236250853660155\t Test Loss: 1.161749005317688\t Test Acc: 58.89\n"
          ]
        },
        {
          "metadata": {
            "tags": null
          },
          "name": "stderr",
          "output_type": "stream",
          "text": [
            "100%|██████████| 196/196 [00:10<00:00, 18.60it/s]\n",
            "100%|██████████| 40/40 [00:02<00:00, 18.74it/s]\n"
          ]
        },
        {
          "metadata": {
            "tags": null
          },
          "name": "stdout",
          "output_type": "stream",
          "text": [
            "Epoch 17--> Train Loss: 1.1068495776580305\t Test Loss: 1.1826039493083953\t Test Acc: 58.55\n"
          ]
        },
        {
          "metadata": {
            "tags": null
          },
          "name": "stderr",
          "output_type": "stream",
          "text": [
            "100%|██████████| 196/196 [00:10<00:00, 18.62it/s]\n",
            "100%|██████████| 40/40 [00:02<00:00, 18.61it/s]\n"
          ]
        },
        {
          "metadata": {
            "tags": null
          },
          "name": "stdout",
          "output_type": "stream",
          "text": [
            "Epoch 18--> Train Loss: 1.088670747924824\t Test Loss: 1.147607332468033\t Test Acc: 59.27\n"
          ]
        },
        {
          "output_type": "stream",
          "name": "stderr",
          "text": [
            "100%|██████████| 196/196 [00:10<00:00, 18.42it/s]\n",
            "100%|██████████| 40/40 [00:02<00:00, 18.23it/s]\n"
          ]
        },
        {
          "output_type": "stream",
          "name": "stdout",
          "text": [
            "Epoch 19--> Train Loss: 1.0722296180165545\t Test Loss: 1.1316464871168137\t Test Acc: 60.16\n"
          ]
        },
        {
          "output_type": "stream",
          "name": "stderr",
          "text": [
            "100%|██████████| 196/196 [00:10<00:00, 18.38it/s]\n",
            "100%|██████████| 40/40 [00:02<00:00, 18.20it/s]"
          ]
        },
        {
          "output_type": "stream",
          "name": "stdout",
          "text": [
            "Epoch 20--> Train Loss: 1.0586014189282242\t Test Loss: 1.1591631710529327\t Test Acc: 59.25\n"
          ]
        },
        {
          "output_type": "stream",
          "name": "stderr",
          "text": [
            "\n"
          ]
        }
      ]
    },
    {
      "cell_type": "code",
      "source": [
        "#torch.save(model_base.state_dict(), 'img_weights/model_base.pt')"
      ],
      "metadata": {
        "id": "xvk_uyPtZpYc"
      },
      "execution_count": null,
      "outputs": []
    },
    {
      "cell_type": "markdown",
      "source": [
        "### Ensemble"
      ],
      "metadata": {
        "id": "9kRzsGP5YjVS"
      }
    },
    {
      "cell_type": "code",
      "source": [
        "# 10 MODELS\n",
        "'''\n",
        "models = []\n",
        "for i in range(10):\n",
        "    model = Net()\n",
        "    criterion = nn.CrossEntropyLoss()\n",
        "    optimizer = optim.Adam(model.parameters())\n",
        "    \n",
        "    model_base, train_losses, test_losses, test_accs = train(model, 20)\n",
        "    \n",
        "    torch.save(model.state_dict(), f'img_weights/model_{i}.pt')\n",
        "\n",
        "    models.append(model)\n",
        "'''"
      ],
      "metadata": {
        "id": "WuNREZ-lZ2Dp"
      },
      "execution_count": null,
      "outputs": []
    },
    {
      "cell_type": "code",
      "source": [
        "ensemble_acc(10)"
      ],
      "metadata": {
        "colab": {
          "base_uri": "https://localhost:8080/"
        },
        "id": "zAl5pgB_aWJZ",
        "outputId": "a3f1cd21-d2c9-4ebc-ff1b-57712239bbce"
      },
      "execution_count": null,
      "outputs": [
        {
          "output_type": "stream",
          "name": "stderr",
          "text": [
            "100%|██████████| 1000/1000 [00:09<00:00, 100.05it/s]\n"
          ]
        },
        {
          "output_type": "stream",
          "name": "stdout",
          "text": [
            "Accuracy of model_0 :  56.5\n"
          ]
        },
        {
          "output_type": "stream",
          "name": "stderr",
          "text": [
            "100%|██████████| 1000/1000 [00:02<00:00, 346.47it/s]\n"
          ]
        },
        {
          "output_type": "stream",
          "name": "stdout",
          "text": [
            "Accuracy of model_1 :  56.7\n"
          ]
        },
        {
          "output_type": "stream",
          "name": "stderr",
          "text": [
            "100%|██████████| 1000/1000 [00:02<00:00, 335.40it/s]\n"
          ]
        },
        {
          "output_type": "stream",
          "name": "stdout",
          "text": [
            "Accuracy of model_2 :  55.6\n"
          ]
        },
        {
          "output_type": "stream",
          "name": "stderr",
          "text": [
            "100%|██████████| 1000/1000 [00:02<00:00, 336.51it/s]\n"
          ]
        },
        {
          "output_type": "stream",
          "name": "stdout",
          "text": [
            "Accuracy of model_3 :  56.5\n"
          ]
        },
        {
          "output_type": "stream",
          "name": "stderr",
          "text": [
            "100%|██████████| 1000/1000 [00:02<00:00, 343.78it/s]\n"
          ]
        },
        {
          "output_type": "stream",
          "name": "stdout",
          "text": [
            "Accuracy of model_4 :  55.5\n"
          ]
        },
        {
          "output_type": "stream",
          "name": "stderr",
          "text": [
            "100%|██████████| 1000/1000 [00:02<00:00, 345.72it/s]\n"
          ]
        },
        {
          "output_type": "stream",
          "name": "stdout",
          "text": [
            "Accuracy of model_5 :  53.1\n"
          ]
        },
        {
          "output_type": "stream",
          "name": "stderr",
          "text": [
            "100%|██████████| 1000/1000 [00:02<00:00, 346.80it/s]\n"
          ]
        },
        {
          "output_type": "stream",
          "name": "stdout",
          "text": [
            "Accuracy of model_6 :  57.0\n"
          ]
        },
        {
          "output_type": "stream",
          "name": "stderr",
          "text": [
            "100%|██████████| 1000/1000 [00:02<00:00, 348.54it/s]\n"
          ]
        },
        {
          "output_type": "stream",
          "name": "stdout",
          "text": [
            "Accuracy of model_7 :  53.5\n"
          ]
        },
        {
          "output_type": "stream",
          "name": "stderr",
          "text": [
            "100%|██████████| 1000/1000 [00:02<00:00, 347.35it/s]\n"
          ]
        },
        {
          "output_type": "stream",
          "name": "stdout",
          "text": [
            "Accuracy of model_8 :  56.5\n"
          ]
        },
        {
          "output_type": "stream",
          "name": "stderr",
          "text": [
            "100%|██████████| 1000/1000 [00:02<00:00, 342.08it/s]"
          ]
        },
        {
          "output_type": "stream",
          "name": "stdout",
          "text": [
            "Accuracy of model_9 :  57.4\n",
            "Avg Acc of Individuals :  55.83\n",
            "Ensemble Accuracy :  60.8\n"
          ]
        },
        {
          "output_type": "stream",
          "name": "stderr",
          "text": [
            "\n"
          ]
        }
      ]
    },
    {
      "cell_type": "markdown",
      "source": [
        "### Epsilon List"
      ],
      "metadata": {
        "id": "3BOvWPi7UsFD"
      }
    },
    {
      "cell_type": "code",
      "source": [
        "eps_list = [0.001, 0.005, 0.01, 0.02]"
      ],
      "metadata": {
        "id": "el6EU2l0UvLa"
      },
      "execution_count": null,
      "outputs": []
    },
    {
      "cell_type": "markdown",
      "source": [
        "### FGSM Attack to Base Model"
      ],
      "metadata": {
        "id": "GyNE79PfXONI"
      }
    },
    {
      "cell_type": "code",
      "source": [
        "model = Net()\n",
        "model.load_state_dict(torch.load(f'img_weights/model_base.pt'))\n",
        "_ = model.eval()\n",
        "_ = model.to(device)"
      ],
      "metadata": {
        "id": "bDbI7yknmBvu"
      },
      "execution_count": null,
      "outputs": []
    },
    {
      "cell_type": "code",
      "source": [
        "apply_fgsm(0.0, model)"
      ],
      "metadata": {
        "colab": {
          "base_uri": "https://localhost:8080/"
        },
        "id": "ucLNz9gZFSm7",
        "outputId": "c3d2fa36-a053-46cd-a61a-42abbf7d35f2"
      },
      "execution_count": null,
      "outputs": [
        {
          "output_type": "stream",
          "name": "stderr",
          "text": [
            "  0%|          | 1/1000 [00:00<02:06,  7.92it/s]"
          ]
        },
        {
          "output_type": "display_data",
          "data": {
            "text/plain": [
              "<Figure size 360x1080 with 1 Axes>"
            ],
            "image/png": "[encoded data removed]"
          },
          "metadata": {
            "needs_background": "light"
          }
        },
        {
          "output_type": "display_data",
          "data": {
            "text/plain": [
              "<Figure size 360x1080 with 1 Axes>"
            ],
            "image/png": "[encoded data removed]"
          },
          "metadata": {
            "needs_background": "light"
          }
        },
        {
          "output_type": "stream",
          "name": "stderr",
          "text": [
            "100%|██████████| 1000/1000 [00:06<00:00, 159.36it/s]"
          ]
        },
        {
          "output_type": "stream",
          "name": "stdout",
          "text": [
            "\n",
            "Accuracy of test text: 56.300000 %\n",
            "Accuracy of test text: 56.300000 %\n"
          ]
        },
        {
          "output_type": "stream",
          "name": "stderr",
          "text": [
            "\n"
          ]
        },
        {
          "output_type": "execute_result",
          "data": {
            "text/plain": [
              "(56.3, 56.3)"
            ]
          },
          "metadata": {},
          "execution_count": 74
        }
      ]
    },
    {
      "cell_type": "code",
      "source": [
        "apply_fgsm(0.001, model)"
      ],
      "metadata": {
        "colab": {
          "base_uri": "https://localhost:8080/"
        },
        "id": "x62NPOfbSvDH",
        "outputId": "9b60affc-707d-43e1-fab3-ce0f614414a0"
      },
      "execution_count": null,
      "outputs": [
        {
          "output_type": "stream",
          "name": "stderr",
          "text": [
            "  0%|          | 1/1000 [00:00<01:58,  8.40it/s]"
          ]
        },
        {
          "output_type": "display_data",
          "data": {
            "text/plain": [
              "<Figure size 360x1080 with 1 Axes>"
            ],
            "image/png": "[encoded data removed]"
          },
          "metadata": {
            "needs_background": "light"
          }
        },
        {
          "output_type": "display_data",
          "data": {
            "text/plain": [
              "<Figure size 360x1080 with 1 Axes>"
            ],
            "image/png": "[encoded data removed]"
          },
          "metadata": {
            "needs_background": "light"
          }
        },
        {
          "output_type": "stream",
          "name": "stderr",
          "text": [
            "100%|██████████| 1000/1000 [00:06<00:00, 156.56it/s]"
          ]
        },
        {
          "output_type": "stream",
          "name": "stdout",
          "text": [
            "\n",
            "Accuracy of test text: 56.300000 %\n",
            "Accuracy of test text: 52.500000 %\n"
          ]
        },
        {
          "output_type": "stream",
          "name": "stderr",
          "text": [
            "\n"
          ]
        },
        {
          "output_type": "execute_result",
          "data": {
            "text/plain": [
              "(56.3, 52.5)"
            ]
          },
          "metadata": {},
          "execution_count": 75
        }
      ]
    },
    {
      "cell_type": "code",
      "source": [
        "apply_fgsm(0.005, model)"
      ],
      "metadata": {
        "colab": {
          "base_uri": "https://localhost:8080/"
        },
        "id": "J7wcJGNxmmQV",
        "outputId": "b26d1979-6414-4d65-bddd-46dba8a130bb"
      },
      "execution_count": null,
      "outputs": [
        {
          "output_type": "stream",
          "name": "stderr",
          "text": [
            "  0%|          | 1/1000 [00:00<01:52,  8.90it/s]"
          ]
        },
        {
          "output_type": "display_data",
          "data": {
            "text/plain": [
              "<Figure size 360x1080 with 1 Axes>"
            ],
            "image/png": "[encoded data removed]"
          },
          "metadata": {
            "needs_background": "light"
          }
        },
        {
          "output_type": "display_data",
          "data": {
            "text/plain": [
              "<Figure size 360x1080 with 1 Axes>"
            ],
            "image/png": "[encoded data removed]"
          },
          "metadata": {
            "needs_background": "light"
          }
        },
        {
          "output_type": "stream",
          "name": "stderr",
          "text": [
            "100%|██████████| 1000/1000 [00:06<00:00, 166.65it/s]"
          ]
        },
        {
          "output_type": "stream",
          "name": "stdout",
          "text": [
            "\n",
            "Accuracy of test text: 56.300000 %\n",
            "Accuracy of test text: 38.600000 %\n"
          ]
        },
        {
          "output_type": "stream",
          "name": "stderr",
          "text": [
            "\n"
          ]
        },
        {
          "output_type": "execute_result",
          "data": {
            "text/plain": [
              "(56.3, 38.6)"
            ]
          },
          "metadata": {},
          "execution_count": 76
        }
      ]
    },
    {
      "cell_type": "code",
      "source": [
        "apply_fgsm(0.01, model)"
      ],
      "metadata": {
        "colab": {
          "base_uri": "https://localhost:8080/"
        },
        "id": "fvOPVVzxFSkk",
        "outputId": "7b87689c-532c-4102-d288-57372e691085"
      },
      "execution_count": null,
      "outputs": [
        {
          "output_type": "stream",
          "name": "stderr",
          "text": [
            "  0%|          | 1/1000 [00:00<01:50,  9.03it/s]"
          ]
        },
        {
          "output_type": "display_data",
          "data": {
            "text/plain": [
              "<Figure size 360x1080 with 1 Axes>"
            ],
            "image/png": "[encoded data removed]"
          },
          "metadata": {
            "needs_background": "light"
          }
        },
        {
          "output_type": "display_data",
          "data": {
            "text/plain": [
              "<Figure size 360x1080 with 1 Axes>"
            ],
            "image/png": "[encoded data removed]"
          },
          "metadata": {
            "needs_background": "light"
          }
        },
        {
          "output_type": "stream",
          "name": "stderr",
          "text": [
            "100%|██████████| 1000/1000 [00:06<00:00, 165.89it/s]"
          ]
        },
        {
          "output_type": "stream",
          "name": "stdout",
          "text": [
            "\n",
            "Accuracy of test text: 56.300000 %\n",
            "Accuracy of test text: 25.400000 %\n"
          ]
        },
        {
          "output_type": "stream",
          "name": "stderr",
          "text": [
            "\n"
          ]
        },
        {
          "output_type": "execute_result",
          "data": {
            "text/plain": [
              "(56.3, 25.4)"
            ]
          },
          "metadata": {},
          "execution_count": 77
        }
      ]
    },
    {
      "cell_type": "code",
      "source": [
        "apply_fgsm(0.02, model)"
      ],
      "metadata": {
        "colab": {
          "base_uri": "https://localhost:8080/"
        },
        "id": "ZipaxVY_Sz-1",
        "outputId": "c58972bf-5f9a-45b3-e2e2-f4a9f7067e52"
      },
      "execution_count": null,
      "outputs": [
        {
          "output_type": "stream",
          "name": "stderr",
          "text": [
            "  0%|          | 1/1000 [00:00<02:04,  8.03it/s]"
          ]
        },
        {
          "output_type": "display_data",
          "data": {
            "text/plain": [
              "<Figure size 360x1080 with 1 Axes>"
            ],
            "image/png": "[encoded data removed]"
          },
          "metadata": {
            "needs_background": "light"
          }
        },
        {
          "output_type": "display_data",
          "data": {
            "text/plain": [
              "<Figure size 360x1080 with 1 Axes>"
            ],
            "image/png": "[encoded data removed]"
          },
          "metadata": {
            "needs_background": "light"
          }
        },
        {
          "output_type": "stream",
          "name": "stderr",
          "text": [
            "100%|██████████| 1000/1000 [00:06<00:00, 164.89it/s]"
          ]
        },
        {
          "output_type": "stream",
          "name": "stdout",
          "text": [
            "\n",
            "Accuracy of test text: 56.300000 %\n",
            "Accuracy of test text: 9.700000 %\n"
          ]
        },
        {
          "output_type": "stream",
          "name": "stderr",
          "text": [
            "\n"
          ]
        },
        {
          "output_type": "execute_result",
          "data": {
            "text/plain": [
              "(56.3, 9.7)"
            ]
          },
          "metadata": {},
          "execution_count": 78
        }
      ]
    },
    {
      "cell_type": "markdown",
      "source": [
        "### FGSM Attack to Ensemble"
      ],
      "metadata": {
        "id": "rYu80Ld8cJeR"
      }
    },
    {
      "cell_type": "code",
      "source": [
        "apply_fgsm_ensemble(0.001, 10)"
      ],
      "metadata": {
        "colab": {
          "base_uri": "https://localhost:8080/"
        },
        "id": "Qvvis8lMFSdh",
        "outputId": "d413d106-c71d-4697-aa4c-b1c71590cc9d"
      },
      "execution_count": null,
      "outputs": [
        {
          "output_type": "stream",
          "name": "stderr",
          "text": [
            "100%|██████████| 1000/1000 [00:37<00:00, 26.71it/s]"
          ]
        },
        {
          "output_type": "stream",
          "name": "stdout",
          "text": [
            "\n",
            "Accuracy of test text: 60.800000 %\n",
            "Accuracy of test text: 58.800000 %\n"
          ]
        },
        {
          "output_type": "stream",
          "name": "stderr",
          "text": [
            "\n"
          ]
        },
        {
          "output_type": "execute_result",
          "data": {
            "text/plain": [
              "(60.8, 58.8)"
            ]
          },
          "metadata": {},
          "execution_count": 79
        }
      ]
    },
    {
      "cell_type": "code",
      "source": [
        "apply_fgsm_ensemble(0.005, 10)"
      ],
      "metadata": {
        "colab": {
          "base_uri": "https://localhost:8080/"
        },
        "id": "yC5lNpkZFSbG",
        "outputId": "b45d6038-5022-4409-a98f-40cfb2c203db"
      },
      "execution_count": null,
      "outputs": [
        {
          "output_type": "stream",
          "name": "stderr",
          "text": [
            "100%|██████████| 1000/1000 [00:34<00:00, 29.32it/s]"
          ]
        },
        {
          "output_type": "stream",
          "name": "stdout",
          "text": [
            "\n",
            "Accuracy of test text: 60.800000 %\n",
            "Accuracy of test text: 49.800000 %\n"
          ]
        },
        {
          "output_type": "stream",
          "name": "stderr",
          "text": [
            "\n"
          ]
        },
        {
          "output_type": "execute_result",
          "data": {
            "text/plain": [
              "(60.8, 49.8)"
            ]
          },
          "metadata": {},
          "execution_count": 80
        }
      ]
    },
    {
      "cell_type": "code",
      "source": [
        "apply_fgsm_ensemble(0.01, 10)"
      ],
      "metadata": {
        "colab": {
          "base_uri": "https://localhost:8080/"
        },
        "id": "GxwrwKz7qtBf",
        "outputId": "6a0f4b9d-032c-46b0-a4ce-1740c03be416"
      },
      "execution_count": null,
      "outputs": [
        {
          "output_type": "stream",
          "name": "stderr",
          "text": [
            "100%|██████████| 1000/1000 [00:33<00:00, 29.91it/s]"
          ]
        },
        {
          "output_type": "stream",
          "name": "stdout",
          "text": [
            "\n",
            "Accuracy of test text: 60.800000 %\n",
            "Accuracy of test text: 39.800000 %\n"
          ]
        },
        {
          "output_type": "stream",
          "name": "stderr",
          "text": [
            "\n"
          ]
        },
        {
          "output_type": "execute_result",
          "data": {
            "text/plain": [
              "(60.8, 39.8)"
            ]
          },
          "metadata": {},
          "execution_count": 81
        }
      ]
    },
    {
      "cell_type": "code",
      "source": [
        "apply_fgsm_ensemble(0.02, 10)"
      ],
      "metadata": {
        "colab": {
          "base_uri": "https://localhost:8080/"
        },
        "id": "Xylp_of8VNXX",
        "outputId": "638740a6-f5f6-41c9-b7a0-3c4252f29729"
      },
      "execution_count": null,
      "outputs": [
        {
          "output_type": "stream",
          "name": "stderr",
          "text": [
            "100%|██████████| 1000/1000 [00:35<00:00, 28.10it/s]"
          ]
        },
        {
          "output_type": "stream",
          "name": "stdout",
          "text": [
            "\n",
            "Accuracy of test text: 60.800000 %\n",
            "Accuracy of test text: 27.100000 %\n"
          ]
        },
        {
          "output_type": "stream",
          "name": "stderr",
          "text": [
            "\n"
          ]
        },
        {
          "output_type": "execute_result",
          "data": {
            "text/plain": [
              "(60.8, 27.1)"
            ]
          },
          "metadata": {},
          "execution_count": 82
        }
      ]
    },
    {
      "cell_type": "markdown",
      "source": [
        "### BIM Attack to Base Model"
      ],
      "metadata": {
        "id": "_iv1nJr2iAPK"
      }
    },
    {
      "cell_type": "code",
      "source": [
        "model = Net()\n",
        "model.load_state_dict(torch.load(f'img_weights/model_base.pt'))\n",
        "_ = model.eval()\n",
        "_ = model.to(device)"
      ],
      "metadata": {
        "id": "PxExefzttoJQ"
      },
      "execution_count": null,
      "outputs": []
    },
    {
      "cell_type": "code",
      "source": [
        "apply_bim(model, 0.0, 0.001, 10)"
      ],
      "metadata": {
        "colab": {
          "base_uri": "https://localhost:8080/"
        },
        "id": "4r9I8EDvFSYh",
        "outputId": "09b5ff92-7efd-4035-f12d-50f58b84ac77"
      },
      "execution_count": null,
      "outputs": [
        {
          "output_type": "stream",
          "name": "stderr",
          "text": [
            "  0%|          | 1/1000 [00:00<02:14,  7.42it/s]"
          ]
        },
        {
          "output_type": "display_data",
          "data": {
            "text/plain": [
              "<Figure size 360x1080 with 1 Axes>"
            ],
            "image/png": "[encoded data removed]"
          },
          "metadata": {
            "needs_background": "light"
          }
        },
        {
          "output_type": "display_data",
          "data": {
            "text/plain": [
              "<Figure size 360x1080 with 1 Axes>"
            ],
            "image/png": "[encoded data removed]"
          },
          "metadata": {
            "needs_background": "light"
          }
        },
        {
          "output_type": "stream",
          "name": "stderr",
          "text": [
            "100%|██████████| 1000/1000 [00:29<00:00, 34.44it/s]"
          ]
        },
        {
          "output_type": "stream",
          "name": "stdout",
          "text": [
            "\n",
            "Accuracy of test text: 56.300000 %\n",
            "Accuracy of test text: 56.300000 %\n"
          ]
        },
        {
          "output_type": "stream",
          "name": "stderr",
          "text": [
            "\n"
          ]
        },
        {
          "output_type": "execute_result",
          "data": {
            "text/plain": [
              "(56.3, 56.3)"
            ]
          },
          "metadata": {},
          "execution_count": 84
        }
      ]
    },
    {
      "cell_type": "code",
      "source": [
        "apply_bim(model, 0.001, 0.001, 10)"
      ],
      "metadata": {
        "colab": {
          "base_uri": "https://localhost:8080/"
        },
        "id": "ct5NRBnIFSWJ",
        "outputId": "0f9ba5c6-de2c-48cd-dffc-c6fb824df28a"
      },
      "execution_count": null,
      "outputs": [
        {
          "output_type": "stream",
          "name": "stderr",
          "text": [
            "  0%|          | 1/1000 [00:00<04:02,  4.12it/s]"
          ]
        },
        {
          "output_type": "display_data",
          "data": {
            "text/plain": [
              "<Figure size 360x1080 with 1 Axes>"
            ],
            "image/png": "[encoded data removed]"
          },
          "metadata": {
            "needs_background": "light"
          }
        },
        {
          "output_type": "display_data",
          "data": {
            "text/plain": [
              "<Figure size 360x1080 with 1 Axes>"
            ],
            "image/png": "[encoded data removed]"
          },
          "metadata": {
            "needs_background": "light"
          }
        },
        {
          "output_type": "stream",
          "name": "stderr",
          "text": [
            "100%|██████████| 1000/1000 [00:29<00:00, 34.15it/s]"
          ]
        },
        {
          "output_type": "stream",
          "name": "stdout",
          "text": [
            "\n",
            "Accuracy of test text: 56.300000 %\n",
            "Accuracy of test text: 40.700000 %\n"
          ]
        },
        {
          "output_type": "stream",
          "name": "stderr",
          "text": [
            "\n"
          ]
        },
        {
          "output_type": "execute_result",
          "data": {
            "text/plain": [
              "(56.3, 40.7)"
            ]
          },
          "metadata": {},
          "execution_count": 91
        }
      ]
    },
    {
      "cell_type": "code",
      "source": [
        "apply_bim(model, 0.005, 0.001, 10)"
      ],
      "metadata": {
        "colab": {
          "base_uri": "https://localhost:8080/"
        },
        "id": "_xgr0Y46FSTy",
        "outputId": "4266d062-060d-4d0d-ac36-e6be2278e7cc"
      },
      "execution_count": null,
      "outputs": [
        {
          "output_type": "stream",
          "name": "stderr",
          "text": [
            "  0%|          | 1/1000 [00:00<02:09,  7.73it/s]"
          ]
        },
        {
          "output_type": "display_data",
          "data": {
            "text/plain": [
              "<Figure size 360x1080 with 1 Axes>"
            ],
            "image/png": "[encoded data removed]"
          },
          "metadata": {
            "needs_background": "light"
          }
        },
        {
          "output_type": "display_data",
          "data": {
            "text/plain": [
              "<Figure size 360x1080 with 1 Axes>"
            ],
            "image/png": "[encoded data removed]"
          },
          "metadata": {
            "needs_background": "light"
          }
        },
        {
          "output_type": "stream",
          "name": "stderr",
          "text": [
            "100%|██████████| 1000/1000 [00:29<00:00, 34.28it/s]"
          ]
        },
        {
          "output_type": "stream",
          "name": "stdout",
          "text": [
            "\n",
            "Accuracy of test text: 56.300000 %\n",
            "Accuracy of test text: 5.200000 %\n"
          ]
        },
        {
          "output_type": "stream",
          "name": "stderr",
          "text": [
            "\n"
          ]
        },
        {
          "output_type": "execute_result",
          "data": {
            "text/plain": [
              "(56.3, 5.2)"
            ]
          },
          "metadata": {},
          "execution_count": 86
        }
      ]
    },
    {
      "cell_type": "code",
      "source": [
        "apply_bim(model, 0.01, 0.001, 10)"
      ],
      "metadata": {
        "colab": {
          "base_uri": "https://localhost:8080/"
        },
        "id": "TldjZzwKV49h",
        "outputId": "2aae879b-d5ab-4bdf-ae22-bebd09d2723e"
      },
      "execution_count": null,
      "outputs": [
        {
          "output_type": "stream",
          "name": "stderr",
          "text": [
            "  0%|          | 1/1000 [00:00<02:14,  7.42it/s]"
          ]
        },
        {
          "output_type": "display_data",
          "data": {
            "text/plain": [
              "<Figure size 360x1080 with 1 Axes>"
            ],
            "image/png": "[encoded data removed]"
          },
          "metadata": {
            "needs_background": "light"
          }
        },
        {
          "output_type": "display_data",
          "data": {
            "text/plain": [
              "<Figure size 360x1080 with 1 Axes>"
            ],
            "image/png": "[encoded data removed]"
          },
          "metadata": {
            "needs_background": "light"
          }
        },
        {
          "output_type": "stream",
          "name": "stderr",
          "text": [
            "100%|██████████| 1000/1000 [00:28<00:00, 35.24it/s]"
          ]
        },
        {
          "output_type": "stream",
          "name": "stdout",
          "text": [
            "\n",
            "Accuracy of test text: 56.300000 %\n",
            "Accuracy of test text: 0.200000 %\n"
          ]
        },
        {
          "output_type": "stream",
          "name": "stderr",
          "text": [
            "\n"
          ]
        },
        {
          "output_type": "execute_result",
          "data": {
            "text/plain": [
              "(56.3, 0.2)"
            ]
          },
          "metadata": {},
          "execution_count": 87
        }
      ]
    },
    {
      "cell_type": "code",
      "source": [
        "apply_bim(model, 0.02, 0.001, 10)"
      ],
      "metadata": {
        "colab": {
          "base_uri": "https://localhost:8080/"
        },
        "id": "DH5MDyNHV47D",
        "outputId": "4cfcadaa-419d-482d-8716-5d324270af80"
      },
      "execution_count": null,
      "outputs": [
        {
          "output_type": "stream",
          "name": "stderr",
          "text": [
            "  0%|          | 1/1000 [00:00<02:26,  6.82it/s]"
          ]
        },
        {
          "output_type": "display_data",
          "data": {
            "text/plain": [
              "<Figure size 360x1080 with 1 Axes>"
            ],
            "image/png": "[encoded data removed]"
          },
          "metadata": {
            "needs_background": "light"
          }
        },
        {
          "output_type": "display_data",
          "data": {
            "text/plain": [
              "<Figure size 360x1080 with 1 Axes>"
            ],
            "image/png": "[encoded data removed]"
          },
          "metadata": {
            "needs_background": "light"
          }
        },
        {
          "output_type": "stream",
          "name": "stderr",
          "text": [
            "100%|██████████| 1000/1000 [00:28<00:00, 35.33it/s]"
          ]
        },
        {
          "output_type": "stream",
          "name": "stdout",
          "text": [
            "\n",
            "Accuracy of test text: 56.300000 %\n",
            "Accuracy of test text: 0.200000 %\n"
          ]
        },
        {
          "output_type": "stream",
          "name": "stderr",
          "text": [
            "\n"
          ]
        },
        {
          "output_type": "execute_result",
          "data": {
            "text/plain": [
              "(56.3, 0.2)"
            ]
          },
          "metadata": {},
          "execution_count": 88
        }
      ]
    },
    {
      "cell_type": "markdown",
      "source": [
        "### BIM Attack to Ensemble"
      ],
      "metadata": {
        "id": "2zElef2wy-j4"
      }
    },
    {
      "cell_type": "code",
      "source": [
        "apply_BIM_ensemble(0.001, 0.001, 10, 10)"
      ],
      "metadata": {
        "colab": {
          "base_uri": "https://localhost:8080/"
        },
        "id": "meOojKfm1fUE",
        "outputId": "15de6928-28f1-46b5-c11f-1e065a086bd6"
      },
      "execution_count": null,
      "outputs": [
        {
          "output_type": "stream",
          "name": "stderr",
          "text": [
            "100%|██████████| 1000/1000 [04:32<00:00,  3.67it/s]"
          ]
        },
        {
          "output_type": "stream",
          "name": "stdout",
          "text": [
            "\n",
            "Accuracy of test text: 60.800000 %\n",
            "Accuracy of test text: 60.600000 %\n"
          ]
        },
        {
          "output_type": "stream",
          "name": "stderr",
          "text": [
            "\n"
          ]
        },
        {
          "output_type": "execute_result",
          "data": {
            "text/plain": [
              "(60.8, 60.6)"
            ]
          },
          "metadata": {},
          "execution_count": 101
        }
      ]
    },
    {
      "cell_type": "code",
      "source": [
        "apply_BIM_ensemble(0.005, 0.001, 10, 10)"
      ],
      "metadata": {
        "colab": {
          "base_uri": "https://localhost:8080/"
        },
        "id": "LusZCF0YFSO3",
        "outputId": "a874c0f7-48f8-44b9-945c-ece366f75bab"
      },
      "execution_count": null,
      "outputs": [
        {
          "output_type": "stream",
          "name": "stderr",
          "text": [
            "100%|██████████| 1000/1000 [04:15<00:00,  3.92it/s]"
          ]
        },
        {
          "output_type": "stream",
          "name": "stdout",
          "text": [
            "\n",
            "Accuracy of test text: 60.800000 %\n",
            "Accuracy of test text: 60.700000 %\n"
          ]
        },
        {
          "output_type": "stream",
          "name": "stderr",
          "text": [
            "\n"
          ]
        },
        {
          "output_type": "execute_result",
          "data": {
            "text/plain": [
              "(60.8, 60.7)"
            ]
          },
          "metadata": {},
          "execution_count": 102
        }
      ]
    },
    {
      "cell_type": "code",
      "source": [
        "apply_BIM_ensemble(0.01, 0.001, 10, 10)"
      ],
      "metadata": {
        "colab": {
          "base_uri": "https://localhost:8080/"
        },
        "id": "c9Tvsx77FSMf",
        "outputId": "f9c33057-a83d-484d-8153-200e910b6a9e"
      },
      "execution_count": null,
      "outputs": [
        {
          "output_type": "stream",
          "name": "stderr",
          "text": [
            "100%|██████████| 1000/1000 [04:15<00:00,  3.92it/s]"
          ]
        },
        {
          "output_type": "stream",
          "name": "stdout",
          "text": [
            "\n",
            "Accuracy of test text: 60.800000 %\n",
            "Accuracy of test text: 61.000000 %\n"
          ]
        },
        {
          "output_type": "stream",
          "name": "stderr",
          "text": [
            "\n"
          ]
        },
        {
          "output_type": "execute_result",
          "data": {
            "text/plain": [
              "(60.8, 61.0)"
            ]
          },
          "metadata": {},
          "execution_count": 103
        }
      ]
    },
    {
      "cell_type": "code",
      "source": [
        "apply_BIM_ensemble(0.02, 0.001, 10, 10)"
      ],
      "metadata": {
        "colab": {
          "base_uri": "https://localhost:8080/"
        },
        "id": "SQqoaMsrYICr",
        "outputId": "9fe04fc6-2f44-4999-c3d7-75c2f8264a0e"
      },
      "execution_count": null,
      "outputs": [
        {
          "output_type": "stream",
          "name": "stderr",
          "text": [
            "100%|██████████| 1000/1000 [04:12<00:00,  3.96it/s]"
          ]
        },
        {
          "output_type": "stream",
          "name": "stdout",
          "text": [
            "\n",
            "Accuracy of test text: 60.800000 %\n",
            "Accuracy of test text: 61.000000 %\n"
          ]
        },
        {
          "output_type": "stream",
          "name": "stderr",
          "text": [
            "\n"
          ]
        },
        {
          "output_type": "execute_result",
          "data": {
            "text/plain": [
              "(60.8, 61.0)"
            ]
          },
          "metadata": {},
          "execution_count": 104
        }
      ]
    },
    {
      "cell_type": "markdown",
      "source": [
        "### ILLM Attack to Base Model"
      ],
      "metadata": {
        "id": "s9NcM_Ex1_2S"
      }
    },
    {
      "cell_type": "code",
      "source": [
        "model = Net()\n",
        "model.load_state_dict(torch.load(f'img_weights/model_base.pt'))\n",
        "_ = model.eval()\n",
        "_ = model.to(device)"
      ],
      "metadata": {
        "id": "RC_iQOkP2l_R"
      },
      "execution_count": null,
      "outputs": []
    },
    {
      "cell_type": "code",
      "source": [
        "apply_illm(model, epsilon=0.001, alpha=0.001, num_iterations=10)"
      ],
      "metadata": {
        "colab": {
          "base_uri": "https://localhost:8080/"
        },
        "id": "X4_3aNTe2jXd",
        "outputId": "ef725145-d22d-4832-d415-a87d530c93f0"
      },
      "execution_count": null,
      "outputs": [
        {
          "output_type": "stream",
          "name": "stderr",
          "text": [
            "  0%|          | 1/1000 [00:00<02:37,  6.33it/s]"
          ]
        },
        {
          "output_type": "display_data",
          "data": {
            "text/plain": [
              "<Figure size 360x1080 with 1 Axes>"
            ],
            "image/png": "[encoded data removed]"
          },
          "metadata": {
            "needs_background": "light"
          }
        },
        {
          "output_type": "display_data",
          "data": {
            "text/plain": [
              "<Figure size 360x1080 with 1 Axes>"
            ],
            "image/png": "[encoded data removed]"
          },
          "metadata": {
            "needs_background": "light"
          }
        },
        {
          "output_type": "stream",
          "name": "stderr",
          "text": [
            "100%|██████████| 1000/1000 [00:30<00:00, 32.82it/s]"
          ]
        },
        {
          "output_type": "stream",
          "name": "stdout",
          "text": [
            "\n",
            "Accuracy of test text: 56.300000 %\n",
            "Accuracy of test text: 56.200000 %\n"
          ]
        },
        {
          "output_type": "stream",
          "name": "stderr",
          "text": [
            "\n"
          ]
        },
        {
          "output_type": "execute_result",
          "data": {
            "text/plain": [
              "(56.3, 56.2)"
            ]
          },
          "metadata": {},
          "execution_count": 111
        }
      ]
    },
    {
      "cell_type": "code",
      "source": [
        "apply_illm(model, epsilon=0.005, alpha=0.001, num_iterations=10)"
      ],
      "metadata": {
        "colab": {
          "base_uri": "https://localhost:8080/"
        },
        "id": "znS8JE9j2yNR",
        "outputId": "7191d8c2-6623-4324-dde2-ec9b9eb763fa"
      },
      "execution_count": null,
      "outputs": [
        {
          "output_type": "stream",
          "name": "stderr",
          "text": [
            "  0%|          | 1/1000 [00:00<02:13,  7.49it/s]"
          ]
        },
        {
          "output_type": "display_data",
          "data": {
            "text/plain": [
              "<Figure size 360x1080 with 1 Axes>"
            ],
            "image/png": "[encoded data removed]"
          },
          "metadata": {
            "needs_background": "light"
          }
        },
        {
          "output_type": "display_data",
          "data": {
            "text/plain": [
              "<Figure size 360x1080 with 1 Axes>"
            ],
            "image/png": "[encoded data removed]"
          },
          "metadata": {
            "needs_background": "light"
          }
        },
        {
          "output_type": "stream",
          "name": "stderr",
          "text": [
            "100%|██████████| 1000/1000 [00:28<00:00, 34.73it/s]"
          ]
        },
        {
          "output_type": "stream",
          "name": "stdout",
          "text": [
            "\n",
            "Accuracy of test text: 56.300000 %\n",
            "Accuracy of test text: 47.800000 %\n"
          ]
        },
        {
          "output_type": "stream",
          "name": "stderr",
          "text": [
            "\n"
          ]
        },
        {
          "output_type": "execute_result",
          "data": {
            "text/plain": [
              "(56.3, 47.8)"
            ]
          },
          "metadata": {},
          "execution_count": 112
        }
      ]
    },
    {
      "cell_type": "code",
      "source": [
        "apply_illm(model, epsilon=0.01, alpha=0.001, num_iterations=10)"
      ],
      "metadata": {
        "colab": {
          "base_uri": "https://localhost:8080/"
        },
        "id": "w2g8bzLcYyVC",
        "outputId": "5a1e46c9-98b3-462f-c068-83e38de5199c"
      },
      "execution_count": null,
      "outputs": [
        {
          "output_type": "stream",
          "name": "stderr",
          "text": [
            "  0%|          | 1/1000 [00:00<02:34,  6.48it/s]"
          ]
        },
        {
          "output_type": "display_data",
          "data": {
            "text/plain": [
              "<Figure size 360x1080 with 1 Axes>"
            ],
            "image/png": "[encoded data removed]"
          },
          "metadata": {
            "needs_background": "light"
          }
        },
        {
          "output_type": "display_data",
          "data": {
            "text/plain": [
              "<Figure size 360x1080 with 1 Axes>"
            ],
            "image/png": "[encoded data removed]"
          },
          "metadata": {
            "needs_background": "light"
          }
        },
        {
          "output_type": "stream",
          "name": "stderr",
          "text": [
            "100%|██████████| 1000/1000 [00:28<00:00, 34.81it/s]"
          ]
        },
        {
          "output_type": "stream",
          "name": "stdout",
          "text": [
            "\n",
            "Accuracy of test text: 56.300000 %\n",
            "Accuracy of test text: 34.900000 %\n"
          ]
        },
        {
          "output_type": "stream",
          "name": "stderr",
          "text": [
            "\n"
          ]
        },
        {
          "output_type": "execute_result",
          "data": {
            "text/plain": [
              "(56.3, 34.9)"
            ]
          },
          "metadata": {},
          "execution_count": 113
        }
      ]
    },
    {
      "cell_type": "code",
      "source": [
        "apply_illm(model, epsilon=0.02, alpha=0.001, num_iterations=10)"
      ],
      "metadata": {
        "colab": {
          "base_uri": "https://localhost:8080/"
        },
        "id": "USHZ3jJIYyQL",
        "outputId": "794dd535-699e-4b59-f5fa-2b88b01014cb"
      },
      "execution_count": null,
      "outputs": [
        {
          "output_type": "stream",
          "name": "stderr",
          "text": [
            "  0%|          | 1/1000 [00:00<02:13,  7.49it/s]"
          ]
        },
        {
          "output_type": "display_data",
          "data": {
            "text/plain": [
              "<Figure size 360x1080 with 1 Axes>"
            ],
            "image/png": "[encoded data removed]"
          },
          "metadata": {
            "needs_background": "light"
          }
        },
        {
          "output_type": "display_data",
          "data": {
            "text/plain": [
              "<Figure size 360x1080 with 1 Axes>"
            ],
            "image/png": "[encoded data removed]"
          },
          "metadata": {
            "needs_background": "light"
          }
        },
        {
          "output_type": "stream",
          "name": "stderr",
          "text": [
            "100%|██████████| 1000/1000 [00:28<00:00, 34.92it/s]"
          ]
        },
        {
          "output_type": "stream",
          "name": "stdout",
          "text": [
            "\n",
            "Accuracy of test text: 56.300000 %\n",
            "Accuracy of test text: 34.900000 %\n"
          ]
        },
        {
          "output_type": "stream",
          "name": "stderr",
          "text": [
            "\n"
          ]
        },
        {
          "output_type": "execute_result",
          "data": {
            "text/plain": [
              "(56.3, 34.9)"
            ]
          },
          "metadata": {},
          "execution_count": 114
        }
      ]
    },
    {
      "cell_type": "markdown",
      "source": [
        "### ILLM Attack to Ensemble"
      ],
      "metadata": {
        "id": "UFHhE-HH35Cj"
      }
    },
    {
      "cell_type": "code",
      "source": [
        "apply_ILLM_ensemble(epsilon=0.001, alpha=0.001, num_iterations=10, n_models=10)"
      ],
      "metadata": {
        "colab": {
          "base_uri": "https://localhost:8080/"
        },
        "id": "j9Q-4Kjp36cr",
        "outputId": "66216d15-a0f8-4542-b60e-ecbf8d072453"
      },
      "execution_count": null,
      "outputs": [
        {
          "output_type": "stream",
          "name": "stderr",
          "text": [
            "100%|██████████| 1000/1000 [04:19<00:00,  3.86it/s]"
          ]
        },
        {
          "output_type": "stream",
          "name": "stdout",
          "text": [
            "\n",
            "Accuracy of test text: 60.800000 %\n",
            "Accuracy of test text: 60.500000 %\n"
          ]
        },
        {
          "output_type": "stream",
          "name": "stderr",
          "text": [
            "\n"
          ]
        },
        {
          "output_type": "execute_result",
          "data": {
            "text/plain": [
              "(60.8, 60.5)"
            ]
          },
          "metadata": {},
          "execution_count": 30
        }
      ]
    },
    {
      "cell_type": "code",
      "source": [
        "apply_ILLM_ensemble(epsilon=0.005, alpha=0.001, num_iterations=10, n_models=10)"
      ],
      "metadata": {
        "colab": {
          "base_uri": "https://localhost:8080/"
        },
        "id": "YQkPjqgo5yBa",
        "outputId": "27d8acc6-b5ac-4b0d-9228-41208d38f0d1"
      },
      "execution_count": null,
      "outputs": [
        {
          "output_type": "stream",
          "name": "stderr",
          "text": [
            "100%|██████████| 1000/1000 [04:00<00:00,  4.16it/s]"
          ]
        },
        {
          "output_type": "stream",
          "name": "stdout",
          "text": [
            "\n",
            "Accuracy of test text: 60.800000 %\n",
            "Accuracy of test text: 59.900000 %\n"
          ]
        },
        {
          "output_type": "stream",
          "name": "stderr",
          "text": [
            "\n"
          ]
        },
        {
          "output_type": "execute_result",
          "data": {
            "text/plain": [
              "(60.8, 59.9)"
            ]
          },
          "metadata": {},
          "execution_count": 31
        }
      ]
    },
    {
      "cell_type": "code",
      "source": [
        "apply_ILLM_ensemble(epsilon=0.01, alpha=0.001, num_iterations=10, n_models=10)"
      ],
      "metadata": {
        "colab": {
          "base_uri": "https://localhost:8080/"
        },
        "id": "Bx0cnl9mjxn-",
        "outputId": "0bc04b3b-0ecb-4b87-d74f-44ebcfbf85cb"
      },
      "execution_count": null,
      "outputs": [
        {
          "output_type": "stream",
          "name": "stderr",
          "text": [
            "100%|██████████| 1000/1000 [04:01<00:00,  4.14it/s]"
          ]
        },
        {
          "output_type": "stream",
          "name": "stdout",
          "text": [
            "\n",
            "Accuracy of test text: 60.800000 %\n",
            "Accuracy of test text: 60.300000 %\n"
          ]
        },
        {
          "output_type": "stream",
          "name": "stderr",
          "text": [
            "\n"
          ]
        },
        {
          "output_type": "execute_result",
          "data": {
            "text/plain": [
              "(60.8, 60.3)"
            ]
          },
          "metadata": {},
          "execution_count": 32
        }
      ]
    },
    {
      "cell_type": "code",
      "source": [
        "apply_ILLM_ensemble(epsilon=0.02, alpha=0.001, num_iterations=10, n_models=10)"
      ],
      "metadata": {
        "colab": {
          "base_uri": "https://localhost:8080/"
        },
        "id": "SYpVJrB6jxlc",
        "outputId": "78f278ab-8503-4a21-a3b5-2a2002dedf1f"
      },
      "execution_count": null,
      "outputs": [
        {
          "output_type": "stream",
          "name": "stderr",
          "text": [
            "100%|██████████| 1000/1000 [04:00<00:00,  4.15it/s]"
          ]
        },
        {
          "output_type": "stream",
          "name": "stdout",
          "text": [
            "\n",
            "Accuracy of test text: 60.800000 %\n",
            "Accuracy of test text: 60.300000 %\n"
          ]
        },
        {
          "output_type": "stream",
          "name": "stderr",
          "text": [
            "\n"
          ]
        },
        {
          "output_type": "execute_result",
          "data": {
            "text/plain": [
              "(60.8, 60.3)"
            ]
          },
          "metadata": {},
          "execution_count": 33
        }
      ]
    },
    {
      "cell_type": "markdown",
      "source": [
        "### DeepFool Attack to Base Model"
      ],
      "metadata": {
        "id": "vNkt2j-g7ne6"
      }
    },
    {
      "cell_type": "code",
      "source": [
        "model = Net()\n",
        "model.load_state_dict(torch.load(f'img_weights/model_base.pt'))\n",
        "_ = model.eval()\n",
        "_ = model.to(device)"
      ],
      "metadata": {
        "id": "any92ZpZn_A6"
      },
      "execution_count": null,
      "outputs": []
    },
    {
      "cell_type": "code",
      "source": [
        "deepfool = torchattacks.DeepFool(model, steps=10, overshoot=0.001)\n",
        "apply_torchattacks(model, deepfool)"
      ],
      "metadata": {
        "colab": {
          "base_uri": "https://localhost:8080/",
          "height": 773
        },
        "id": "90qRW4MN63xM",
        "outputId": "cbeb75e7-8419-4e61-dc67-3c9634943f89"
      },
      "execution_count": null,
      "outputs": [
        {
          "output_type": "stream",
          "name": "stderr",
          "text": [
            "\r  0%|          | 0/1000 [00:00<?, ?it/s]"
          ]
        },
        {
          "output_type": "display_data",
          "data": {
            "text/plain": [
              "<Figure size 360x1080 with 1 Axes>"
            ],
            "image/png": "[encoded data removed]"
          },
          "metadata": {
            "needs_background": "light"
          }
        },
        {
          "output_type": "display_data",
          "data": {
            "text/plain": [
              "<Figure size 360x1080 with 1 Axes>"
            ],
            "image/png": "[encoded data removed]"
          },
          "metadata": {
            "needs_background": "light"
          }
        },
        {
          "output_type": "stream",
          "name": "stderr",
          "text": [
            "100%|██████████| 1000/1000 [01:14<00:00, 13.49it/s]"
          ]
        },
        {
          "output_type": "stream",
          "name": "stdout",
          "text": [
            "\n",
            "Accuracy of test text: 56.300000 %\n",
            "Accuracy of test text: 34.600000 %\n"
          ]
        },
        {
          "output_type": "stream",
          "name": "stderr",
          "text": [
            "\n"
          ]
        },
        {
          "output_type": "execute_result",
          "data": {
            "text/plain": [
              "(56.3, 34.6)"
            ]
          },
          "metadata": {},
          "execution_count": 47
        }
      ]
    },
    {
      "cell_type": "code",
      "source": [
        "deepfool = torchattacks.DeepFool(model, steps=10, overshoot=0.005)\n",
        "apply_torchattacks(model, deepfool)"
      ],
      "metadata": {
        "colab": {
          "base_uri": "https://localhost:8080/",
          "height": 773
        },
        "id": "VVKCZ9SSn6TC",
        "outputId": "54955793-3f0d-47f5-ffb6-fe83153fd689"
      },
      "execution_count": null,
      "outputs": [
        {
          "output_type": "stream",
          "name": "stderr",
          "text": [
            "\r  0%|          | 0/1000 [00:00<?, ?it/s]"
          ]
        },
        {
          "output_type": "display_data",
          "data": {
            "text/plain": [
              "<Figure size 360x1080 with 1 Axes>"
            ],
            "image/png": "[encoded data removed]"
          },
          "metadata": {
            "needs_background": "light"
          }
        },
        {
          "output_type": "display_data",
          "data": {
            "text/plain": [
              "<Figure size 360x1080 with 1 Axes>"
            ],
            "image/png": "[encoded data removed]"
          },
          "metadata": {
            "needs_background": "light"
          }
        },
        {
          "output_type": "stream",
          "name": "stderr",
          "text": [
            "100%|██████████| 1000/1000 [01:11<00:00, 13.90it/s]"
          ]
        },
        {
          "output_type": "stream",
          "name": "stdout",
          "text": [
            "\n",
            "Accuracy of test text: 56.300000 %\n",
            "Accuracy of test text: 32.200000 %\n"
          ]
        },
        {
          "output_type": "stream",
          "name": "stderr",
          "text": [
            "\n"
          ]
        },
        {
          "output_type": "execute_result",
          "data": {
            "text/plain": [
              "(56.3, 32.2)"
            ]
          },
          "metadata": {},
          "execution_count": 48
        }
      ]
    },
    {
      "cell_type": "code",
      "source": [
        "deepfool = torchattacks.DeepFool(model, steps=10, overshoot=0.01)\n",
        "apply_torchattacks(model, deepfool)"
      ],
      "metadata": {
        "colab": {
          "base_uri": "https://localhost:8080/",
          "height": 773
        },
        "id": "I4uZFDtrn6Qk",
        "outputId": "014b1f7a-b821-4736-9855-2162d07f0cc2"
      },
      "execution_count": null,
      "outputs": [
        {
          "output_type": "stream",
          "name": "stderr",
          "text": [
            "\r  0%|          | 0/1000 [00:00<?, ?it/s]"
          ]
        },
        {
          "output_type": "display_data",
          "data": {
            "text/plain": [
              "<Figure size 360x1080 with 1 Axes>"
            ],
            "image/png": "[encoded data removed]"
          },
          "metadata": {
            "needs_background": "light"
          }
        },
        {
          "output_type": "display_data",
          "data": {
            "text/plain": [
              "<Figure size 360x1080 with 1 Axes>"
            ],
            "image/png": "[encoded data removed]"
          },
          "metadata": {
            "needs_background": "light"
          }
        },
        {
          "output_type": "stream",
          "name": "stderr",
          "text": [
            "100%|██████████| 1000/1000 [01:09<00:00, 14.39it/s]"
          ]
        },
        {
          "output_type": "stream",
          "name": "stdout",
          "text": [
            "\n",
            "Accuracy of test text: 56.300000 %\n",
            "Accuracy of test text: 32.400000 %\n"
          ]
        },
        {
          "output_type": "stream",
          "name": "stderr",
          "text": [
            "\n"
          ]
        },
        {
          "output_type": "execute_result",
          "data": {
            "text/plain": [
              "(56.3, 32.4)"
            ]
          },
          "metadata": {},
          "execution_count": 49
        }
      ]
    },
    {
      "cell_type": "code",
      "source": [
        "deepfool = torchattacks.DeepFool(model, steps=10, overshoot=0.02)\n",
        "apply_torchattacks(model, deepfool)"
      ],
      "metadata": {
        "colab": {
          "base_uri": "https://localhost:8080/",
          "height": 773
        },
        "id": "Rwdn1tWMn6N5",
        "outputId": "2e549013-9823-4632-888c-990f95945ed3"
      },
      "execution_count": null,
      "outputs": [
        {
          "output_type": "stream",
          "name": "stderr",
          "text": [
            "  0%|          | 1/1000 [00:00<05:04,  3.29it/s]"
          ]
        },
        {
          "output_type": "display_data",
          "data": {
            "text/plain": [
              "<Figure size 360x1080 with 1 Axes>"
            ],
            "image/png": "[encoded data removed]"
          },
          "metadata": {
            "needs_background": "light"
          }
        },
        {
          "output_type": "display_data",
          "data": {
            "text/plain": [
              "<Figure size 360x1080 with 1 Axes>"
            ],
            "image/png": "[encoded data removed]"
          },
          "metadata": {
            "needs_background": "light"
          }
        },
        {
          "output_type": "stream",
          "name": "stderr",
          "text": [
            "100%|██████████| 1000/1000 [01:07<00:00, 14.72it/s]"
          ]
        },
        {
          "output_type": "stream",
          "name": "stdout",
          "text": [
            "\n",
            "Accuracy of test text: 56.300000 %\n",
            "Accuracy of test text: 30.600000 %\n"
          ]
        },
        {
          "output_type": "stream",
          "name": "stderr",
          "text": [
            "\n"
          ]
        },
        {
          "output_type": "execute_result",
          "data": {
            "text/plain": [
              "(56.3, 30.6)"
            ]
          },
          "metadata": {},
          "execution_count": 50
        }
      ]
    },
    {
      "cell_type": "markdown",
      "source": [
        "### DeepFool Attack to Ensemble"
      ],
      "metadata": {
        "id": "pFoRUuRTLCz2"
      }
    },
    {
      "cell_type": "code",
      "source": [
        "apply_deepfool_ensemble(steps=10, overshoot=0.001, n_models=10)"
      ],
      "metadata": {
        "colab": {
          "base_uri": "https://localhost:8080/"
        },
        "id": "Hu_Y97mL-z8E",
        "outputId": "cb779f73-04b0-4fab-8fc9-6fb3fd8c6aee"
      },
      "execution_count": null,
      "outputs": [
        {
          "output_type": "stream",
          "name": "stderr",
          "text": [
            "100%|██████████| 1000/1000 [11:22<00:00,  1.47it/s]"
          ]
        },
        {
          "output_type": "stream",
          "name": "stdout",
          "text": [
            "\n",
            "Accuracy of test text: 60.800000 %\n",
            "Accuracy of test text: 35.300000 %\n"
          ]
        },
        {
          "output_type": "stream",
          "name": "stderr",
          "text": [
            "\n"
          ]
        },
        {
          "output_type": "execute_result",
          "data": {
            "text/plain": [
              "(60.8, 35.3)"
            ]
          },
          "metadata": {},
          "execution_count": 51
        }
      ]
    },
    {
      "cell_type": "code",
      "source": [
        "apply_deepfool_ensemble(steps=10, overshoot=0.005, n_models=10)"
      ],
      "metadata": {
        "colab": {
          "base_uri": "https://localhost:8080/"
        },
        "id": "XebTHQShAgeb",
        "outputId": "f31227e9-5837-418b-8650-a4cbb5360e39"
      },
      "execution_count": null,
      "outputs": [
        {
          "output_type": "stream",
          "name": "stderr",
          "text": [
            "100%|██████████| 1000/1000 [11:00<00:00,  1.51it/s]"
          ]
        },
        {
          "output_type": "stream",
          "name": "stdout",
          "text": [
            "\n",
            "Accuracy of test text: 60.800000 %\n",
            "Accuracy of test text: 35.600000 %\n"
          ]
        },
        {
          "output_type": "stream",
          "name": "stderr",
          "text": [
            "\n"
          ]
        },
        {
          "output_type": "execute_result",
          "data": {
            "text/plain": [
              "(60.8, 35.6)"
            ]
          },
          "metadata": {},
          "execution_count": 52
        }
      ]
    },
    {
      "cell_type": "code",
      "source": [
        " apply_deepfool_ensemble(steps=10, overshoot=0.01, n_models=10)"
      ],
      "metadata": {
        "id": "rTyqb1F9s8Fo",
        "colab": {
          "base_uri": "https://localhost:8080/"
        },
        "outputId": "195fcf98-bd53-478a-9a0f-f2361027147e"
      },
      "execution_count": null,
      "outputs": [
        {
          "output_type": "stream",
          "name": "stderr",
          "text": [
            "100%|██████████| 1000/1000 [11:06<00:00,  1.50it/s]"
          ]
        },
        {
          "output_type": "stream",
          "name": "stdout",
          "text": [
            "\n",
            "Accuracy of test text: 60.800000 %\n",
            "Accuracy of test text: 33.500000 %\n"
          ]
        },
        {
          "output_type": "stream",
          "name": "stderr",
          "text": [
            "\n"
          ]
        },
        {
          "output_type": "execute_result",
          "data": {
            "text/plain": [
              "(60.8, 33.5)"
            ]
          },
          "metadata": {},
          "execution_count": 36
        }
      ]
    },
    {
      "cell_type": "code",
      "source": [
        "apply_deepfool_ensemble(steps=10, overshoot=0.02, n_models=10)"
      ],
      "metadata": {
        "id": "7kp6dcFos8DF",
        "colab": {
          "base_uri": "https://localhost:8080/"
        },
        "outputId": "1ecaa4ec-38eb-4309-a71c-9fa48464df5c"
      },
      "execution_count": null,
      "outputs": [
        {
          "output_type": "stream",
          "name": "stderr",
          "text": [
            "100%|██████████| 1000/1000 [10:41<00:00,  1.56it/s]"
          ]
        },
        {
          "output_type": "stream",
          "name": "stdout",
          "text": [
            "\n",
            "Accuracy of test text: 60.800000 %\n",
            "Accuracy of test text: 32.200000 %\n"
          ]
        },
        {
          "output_type": "stream",
          "name": "stderr",
          "text": [
            "\n"
          ]
        },
        {
          "output_type": "execute_result",
          "data": {
            "text/plain": [
              "(60.8, 32.2)"
            ]
          },
          "metadata": {},
          "execution_count": 37
        }
      ]
    },
    {
      "cell_type": "markdown",
      "source": [
        "### One Pixel Attack to Base Model"
      ],
      "metadata": {
        "id": "w4GaaVk8EkNz"
      }
    },
    {
      "cell_type": "code",
      "source": [
        "model = Net()\n",
        "model.load_state_dict(torch.load(f'img_weights/model_base.pt'))\n",
        "_ = model.eval()\n",
        "_ = model.to(device)"
      ],
      "metadata": {
        "id": "IFjj8Q97k9aZ"
      },
      "execution_count": null,
      "outputs": []
    },
    {
      "cell_type": "code",
      "source": [
        "one_pixel = torchattacks.OnePixel(model, pixels=1, steps=10, popsize=10, inf_batch=128)\n",
        "apply_torchattacks(model, one_pixel)"
      ],
      "metadata": {
        "id": "6u0Dv7fFBqlf",
        "colab": {
          "base_uri": "https://localhost:8080/",
          "height": 773
        },
        "outputId": "f9c206b9-16d6-49de-b418-1464ca420a3e"
      },
      "execution_count": null,
      "outputs": [
        {
          "output_type": "stream",
          "name": "stderr",
          "text": [
            "  0%|          | 1/1000 [00:00<02:06,  7.87it/s]"
          ]
        },
        {
          "output_type": "display_data",
          "data": {
            "text/plain": [
              "<Figure size 360x1080 with 1 Axes>"
            ],
            "image/png": "[encoded data removed]"
          },
          "metadata": {
            "needs_background": "light"
          }
        },
        {
          "output_type": "display_data",
          "data": {
            "text/plain": [
              "<Figure size 360x1080 with 1 Axes>"
            ],
            "image/png": "[encoded data removed]"
          },
          "metadata": {
            "needs_background": "light"
          }
        },
        {
          "output_type": "stream",
          "name": "stderr",
          "text": [
            "100%|██████████| 1000/1000 [00:27<00:00, 36.11it/s]"
          ]
        },
        {
          "output_type": "stream",
          "name": "stdout",
          "text": [
            "\n",
            "Accuracy of test text: 56.300000 %\n",
            "Accuracy of test text: 50.900000 %\n"
          ]
        },
        {
          "output_type": "stream",
          "name": "stderr",
          "text": [
            "\n"
          ]
        },
        {
          "output_type": "execute_result",
          "data": {
            "text/plain": [
              "(56.3, 50.9)"
            ]
          },
          "metadata": {},
          "execution_count": 38
        }
      ]
    },
    {
      "cell_type": "code",
      "source": [
        "one_pixel = torchattacks.OnePixel(model, pixels=2, steps=10, popsize=10, inf_batch=128)\n",
        "apply_torchattacks(model, one_pixel)"
      ],
      "metadata": {
        "colab": {
          "base_uri": "https://localhost:8080/",
          "height": 773
        },
        "id": "kDyZ9-UEBuyL",
        "outputId": "821ece6b-d6af-4a4f-d195-aa0a6efce65c"
      },
      "execution_count": null,
      "outputs": [
        {
          "output_type": "stream",
          "name": "stderr",
          "text": [
            "  0%|          | 1/1000 [00:00<02:40,  6.23it/s]"
          ]
        },
        {
          "output_type": "display_data",
          "data": {
            "text/plain": [
              "<Figure size 360x1080 with 1 Axes>"
            ],
            "image/png": "[encoded data removed]"
          },
          "metadata": {
            "needs_background": "light"
          }
        },
        {
          "output_type": "display_data",
          "data": {
            "text/plain": [
              "<Figure size 360x1080 with 1 Axes>"
            ],
            "image/png": "[encoded data removed]"
          },
          "metadata": {
            "needs_background": "light"
          }
        },
        {
          "output_type": "stream",
          "name": "stderr",
          "text": [
            "100%|██████████| 1000/1000 [00:34<00:00, 28.83it/s]"
          ]
        },
        {
          "output_type": "stream",
          "name": "stdout",
          "text": [
            "\n",
            "Accuracy of test text: 56.300000 %\n",
            "Accuracy of test text: 48.600000 %\n"
          ]
        },
        {
          "output_type": "stream",
          "name": "stderr",
          "text": [
            "\n"
          ]
        },
        {
          "output_type": "execute_result",
          "data": {
            "text/plain": [
              "(56.3, 48.6)"
            ]
          },
          "metadata": {},
          "execution_count": 45
        }
      ]
    },
    {
      "cell_type": "code",
      "source": [
        "one_pixel = torchattacks.OnePixel(model, pixels=3, steps=10, popsize=10, inf_batch=128)\n",
        "apply_torchattacks(model, one_pixel)"
      ],
      "metadata": {
        "colab": {
          "base_uri": "https://localhost:8080/",
          "height": 773
        },
        "id": "lyptxgzDmEcr",
        "outputId": "a2549326-daef-4d9a-c676-f431e2d4ea01"
      },
      "execution_count": null,
      "outputs": [
        {
          "output_type": "stream",
          "name": "stderr",
          "text": [
            "\r  0%|          | 0/1000 [00:00<?, ?it/s]"
          ]
        },
        {
          "output_type": "display_data",
          "data": {
            "text/plain": [
              "<Figure size 360x1080 with 1 Axes>"
            ],
            "image/png": "[encoded data removed]"
          },
          "metadata": {
            "needs_background": "light"
          }
        },
        {
          "output_type": "display_data",
          "data": {
            "text/plain": [
              "<Figure size 360x1080 with 1 Axes>"
            ],
            "image/png": "[encoded data removed]"
          },
          "metadata": {
            "needs_background": "light"
          }
        },
        {
          "output_type": "stream",
          "name": "stderr",
          "text": [
            "100%|██████████| 1000/1000 [00:38<00:00, 26.00it/s]"
          ]
        },
        {
          "output_type": "stream",
          "name": "stdout",
          "text": [
            "\n",
            "Accuracy of test text: 56.300000 %\n",
            "Accuracy of test text: 46.700000 %\n"
          ]
        },
        {
          "output_type": "stream",
          "name": "stderr",
          "text": [
            "\n"
          ]
        },
        {
          "output_type": "execute_result",
          "data": {
            "text/plain": [
              "(56.3, 46.7)"
            ]
          },
          "metadata": {},
          "execution_count": 46
        }
      ]
    },
    {
      "cell_type": "code",
      "source": [
        "one_pixel = torchattacks.OnePixel(model, pixels=4, steps=10, popsize=10, inf_batch=128)\n",
        "apply_torchattacks(model, one_pixel)"
      ],
      "metadata": {
        "colab": {
          "base_uri": "https://localhost:8080/",
          "height": 773
        },
        "id": "R2vb_W8rmGDO",
        "outputId": "96b4a719-1486-46ed-b7ca-c7d459b8eddb"
      },
      "execution_count": null,
      "outputs": [
        {
          "output_type": "stream",
          "name": "stderr",
          "text": [
            "\r  0%|          | 0/1000 [00:00<?, ?it/s]"
          ]
        },
        {
          "output_type": "display_data",
          "data": {
            "text/plain": [
              "<Figure size 360x1080 with 1 Axes>"
            ],
            "image/png": "[encoded data removed]"
          },
          "metadata": {
            "needs_background": "light"
          }
        },
        {
          "output_type": "display_data",
          "data": {
            "text/plain": [
              "<Figure size 360x1080 with 1 Axes>"
            ],
            "image/png": "[encoded data removed]"
          },
          "metadata": {
            "needs_background": "light"
          }
        },
        {
          "output_type": "stream",
          "name": "stderr",
          "text": [
            "100%|██████████| 1000/1000 [00:53<00:00, 18.62it/s]"
          ]
        },
        {
          "output_type": "stream",
          "name": "stdout",
          "text": [
            "\n",
            "Accuracy of test text: 56.300000 %\n",
            "Accuracy of test text: 43.000000 %\n"
          ]
        },
        {
          "output_type": "stream",
          "name": "stderr",
          "text": [
            "\n"
          ]
        },
        {
          "output_type": "execute_result",
          "data": {
            "text/plain": [
              "(56.3, 43.0)"
            ]
          },
          "metadata": {},
          "execution_count": 47
        }
      ]
    },
    {
      "cell_type": "markdown",
      "source": [
        "### One Pixel Attack to Ensemble"
      ],
      "metadata": {
        "id": "kade_nlyLJ98"
      }
    },
    {
      "cell_type": "code",
      "source": [
        "apply_onepixel_ensemble(pixels=1, steps=10, popsize=10, inf_batch=128, n_models=10)"
      ],
      "metadata": {
        "colab": {
          "base_uri": "https://localhost:8080/"
        },
        "id": "rt94D57xCOwS",
        "outputId": "5da97078-06b3-4e80-fa67-e01da8ce1bf4"
      },
      "execution_count": null,
      "outputs": [
        {
          "output_type": "stream",
          "name": "stderr",
          "text": [
            "100%|██████████| 1000/1000 [03:35<00:00,  4.63it/s]"
          ]
        },
        {
          "output_type": "stream",
          "name": "stdout",
          "text": [
            "\n",
            "Accuracy of test text: 60.800000 %\n",
            "Accuracy of test text: 54.700000 %\n"
          ]
        },
        {
          "output_type": "stream",
          "name": "stderr",
          "text": [
            "\n"
          ]
        },
        {
          "output_type": "execute_result",
          "data": {
            "text/plain": [
              "(60.8, 54.7)"
            ]
          },
          "metadata": {},
          "execution_count": 48
        }
      ]
    },
    {
      "cell_type": "code",
      "source": [
        "apply_onepixel_ensemble(pixels=2, steps=10, popsize=10, inf_batch=128, n_models=10)"
      ],
      "metadata": {
        "id": "lRttwgoVEE_I",
        "colab": {
          "base_uri": "https://localhost:8080/"
        },
        "outputId": "6618f279-c74b-4ee0-ea1c-fdf0e5374e29"
      },
      "execution_count": null,
      "outputs": [
        {
          "output_type": "stream",
          "name": "stderr",
          "text": [
            "100%|██████████| 1000/1000 [04:07<00:00,  4.04it/s]"
          ]
        },
        {
          "output_type": "stream",
          "name": "stdout",
          "text": [
            "\n",
            "Accuracy of test text: 60.800000 %\n",
            "Accuracy of test text: 52.000000 %\n"
          ]
        },
        {
          "output_type": "stream",
          "name": "stderr",
          "text": [
            "\n"
          ]
        },
        {
          "output_type": "execute_result",
          "data": {
            "text/plain": [
              "(60.8, 52.0)"
            ]
          },
          "metadata": {},
          "execution_count": 49
        }
      ]
    },
    {
      "cell_type": "code",
      "source": [
        "apply_onepixel_ensemble(pixels=3, steps=10, popsize=10, inf_batch=128, n_models=10)"
      ],
      "metadata": {
        "colab": {
          "base_uri": "https://localhost:8080/"
        },
        "id": "gcJpvy0Pmo4J",
        "outputId": "c7cca111-f082-4ae9-f34e-50c1b75db4f8"
      },
      "execution_count": null,
      "outputs": [
        {
          "output_type": "stream",
          "name": "stderr",
          "text": [
            "100%|██████████| 1000/1000 [05:46<00:00,  2.89it/s]"
          ]
        },
        {
          "output_type": "stream",
          "name": "stdout",
          "text": [
            "\n",
            "Accuracy of test text: 60.800000 %\n",
            "Accuracy of test text: 48.900000 %\n"
          ]
        },
        {
          "output_type": "stream",
          "name": "stderr",
          "text": [
            "\n"
          ]
        },
        {
          "output_type": "execute_result",
          "data": {
            "text/plain": [
              "(60.8, 48.9)"
            ]
          },
          "metadata": {},
          "execution_count": 50
        }
      ]
    },
    {
      "cell_type": "code",
      "source": [
        "apply_onepixel_ensemble(pixels=4, steps=10, popsize=10, inf_batch=128, n_models=10)"
      ],
      "metadata": {
        "colab": {
          "base_uri": "https://localhost:8080/"
        },
        "id": "3Yy0ZfQSmpgy",
        "outputId": "b71b4bdf-ed8b-4b03-c239-8dfa22b13da1"
      },
      "execution_count": null,
      "outputs": [
        {
          "output_type": "stream",
          "name": "stderr",
          "text": [
            "100%|██████████| 1000/1000 [07:56<00:00,  2.10it/s]"
          ]
        },
        {
          "output_type": "stream",
          "name": "stdout",
          "text": [
            "\n",
            "Accuracy of test text: 60.800000 %\n",
            "Accuracy of test text: 48.100000 %\n"
          ]
        },
        {
          "output_type": "stream",
          "name": "stderr",
          "text": [
            "\n"
          ]
        },
        {
          "output_type": "execute_result",
          "data": {
            "text/plain": [
              "(60.8, 48.1)"
            ]
          },
          "metadata": {},
          "execution_count": 51
        }
      ]
    },
    {
      "cell_type": "markdown",
      "source": [
        "### Carlini&Wagner Attack to Base Model"
      ],
      "metadata": {
        "id": "cb3DpAkBE3No"
      }
    },
    {
      "cell_type": "code",
      "source": [
        "model = Net()\n",
        "model.load_state_dict(torch.load(f'img_weights/model_base.pt'))\n",
        "_ = model.eval()"
      ],
      "metadata": {
        "id": "h83bshkVGHyI"
      },
      "execution_count": null,
      "outputs": []
    },
    {
      "cell_type": "code",
      "source": [
        "cw = torchattacks.CW(model, c=0, kappa=0, steps=10, lr=0.01)\n",
        "apply_cw(model, cw)"
      ],
      "metadata": {
        "id": "GKJoyBC0Eh6Y",
        "colab": {
          "base_uri": "https://localhost:8080/",
          "height": 773
        },
        "outputId": "33d57a81-5c29-4c4a-a46b-750183cea414"
      },
      "execution_count": null,
      "outputs": [
        {
          "output_type": "stream",
          "name": "stderr",
          "text": [
            "  0%|          | 1/1000 [00:00<01:43,  9.64it/s]"
          ]
        },
        {
          "output_type": "display_data",
          "data": {
            "text/plain": [
              "<Figure size 360x1080 with 1 Axes>"
            ],
            "image/png": "[encoded data removed]"
          },
          "metadata": {
            "needs_background": "light"
          }
        },
        {
          "output_type": "display_data",
          "data": {
            "text/plain": [
              "<Figure size 360x1080 with 1 Axes>"
            ],
            "image/png": "[encoded data removed]"
          },
          "metadata": {
            "needs_background": "light"
          }
        },
        {
          "output_type": "stream",
          "name": "stderr",
          "text": [
            "100%|██████████| 1000/1000 [00:09<00:00, 103.67it/s]"
          ]
        },
        {
          "output_type": "stream",
          "name": "stdout",
          "text": [
            "\n",
            "Accuracy of test text: 56.300000 %\n",
            "Accuracy of test text: 56.100000 %\n"
          ]
        },
        {
          "output_type": "stream",
          "name": "stderr",
          "text": [
            "\n"
          ]
        },
        {
          "output_type": "execute_result",
          "data": {
            "text/plain": [
              "(56.3, 56.1)"
            ]
          },
          "metadata": {},
          "execution_count": 57
        }
      ]
    },
    {
      "cell_type": "code",
      "source": [
        "cw = torchattacks.CW(model, c=0.1, kappa=0, steps=10, lr=0.01)\n",
        "apply_cw(model, cw)"
      ],
      "metadata": {
        "colab": {
          "base_uri": "https://localhost:8080/",
          "height": 773
        },
        "id": "TSpsGUJrFGMk",
        "outputId": "17e692be-2c0d-41e0-c175-dd87357d08a9"
      },
      "execution_count": null,
      "outputs": [
        {
          "output_type": "stream",
          "name": "stderr",
          "text": [
            "\r  0%|          | 0/1000 [00:00<?, ?it/s]"
          ]
        },
        {
          "output_type": "display_data",
          "data": {
            "text/plain": [
              "<Figure size 360x1080 with 1 Axes>"
            ],
            "image/png": "[encoded data removed]"
          },
          "metadata": {
            "needs_background": "light"
          }
        },
        {
          "output_type": "display_data",
          "data": {
            "text/plain": [
              "<Figure size 360x1080 with 1 Axes>"
            ],
            "image/png": "[encoded data removed]"
          },
          "metadata": {
            "needs_background": "light"
          }
        },
        {
          "output_type": "stream",
          "name": "stderr",
          "text": [
            "100%|██████████| 1000/1000 [00:11<00:00, 84.69it/s]"
          ]
        },
        {
          "output_type": "stream",
          "name": "stdout",
          "text": [
            "\n",
            "Accuracy of test text: 56.300000 %\n",
            "Accuracy of test text: 27.000000 %\n"
          ]
        },
        {
          "output_type": "stream",
          "name": "stderr",
          "text": [
            "\n"
          ]
        },
        {
          "output_type": "execute_result",
          "data": {
            "text/plain": [
              "(56.3, 27.0)"
            ]
          },
          "metadata": {},
          "execution_count": 58
        }
      ]
    },
    {
      "cell_type": "code",
      "source": [
        "cw = torchattacks.CW(model, c=0.2, kappa=0, steps=10, lr=0.01)\n",
        "apply_cw(model, cw)"
      ],
      "metadata": {
        "colab": {
          "base_uri": "https://localhost:8080/",
          "height": 773
        },
        "id": "xXDOnaJ7srpS",
        "outputId": "e02b9a31-5163-4d23-b16f-0064635124e9"
      },
      "execution_count": null,
      "outputs": [
        {
          "output_type": "stream",
          "name": "stderr",
          "text": [
            "  0%|          | 1/1000 [00:00<02:51,  5.82it/s]"
          ]
        },
        {
          "output_type": "display_data",
          "data": {
            "text/plain": [
              "<Figure size 360x1080 with 1 Axes>"
            ],
            "image/png": "[encoded data removed]"
          },
          "metadata": {
            "needs_background": "light"
          }
        },
        {
          "output_type": "display_data",
          "data": {
            "text/plain": [
              "<Figure size 360x1080 with 1 Axes>"
            ],
            "image/png": "[encoded data removed]"
          },
          "metadata": {
            "needs_background": "light"
          }
        },
        {
          "output_type": "stream",
          "name": "stderr",
          "text": [
            "100%|██████████| 1000/1000 [00:12<00:00, 77.88it/s]"
          ]
        },
        {
          "output_type": "stream",
          "name": "stdout",
          "text": [
            "\n",
            "Accuracy of test text: 56.300000 %\n",
            "Accuracy of test text: 13.600000 %\n"
          ]
        },
        {
          "output_type": "stream",
          "name": "stderr",
          "text": [
            "\n"
          ]
        },
        {
          "output_type": "execute_result",
          "data": {
            "text/plain": [
              "(56.3, 13.6)"
            ]
          },
          "metadata": {},
          "execution_count": 60
        }
      ]
    },
    {
      "cell_type": "code",
      "source": [
        "cw = torchattacks.CW(model, c=0.5, kappa=0, steps=10, lr=0.01)\n",
        "apply_cw(model, cw)"
      ],
      "metadata": {
        "colab": {
          "base_uri": "https://localhost:8080/",
          "height": 773
        },
        "id": "SQcKueQZs9-g",
        "outputId": "673a516e-d280-439f-8e91-b56a2ea6b203"
      },
      "execution_count": null,
      "outputs": [
        {
          "output_type": "stream",
          "name": "stderr",
          "text": [
            "  0%|          | 1/1000 [00:00<03:06,  5.36it/s]"
          ]
        },
        {
          "output_type": "display_data",
          "data": {
            "text/plain": [
              "<Figure size 360x1080 with 1 Axes>"
            ],
            "image/png": "[encoded data removed]"
          },
          "metadata": {
            "needs_background": "light"
          }
        },
        {
          "output_type": "display_data",
          "data": {
            "text/plain": [
              "<Figure size 360x1080 with 1 Axes>"
            ],
            "image/png": "[encoded data removed]"
          },
          "metadata": {
            "needs_background": "light"
          }
        },
        {
          "output_type": "stream",
          "name": "stderr",
          "text": [
            "100%|██████████| 1000/1000 [00:12<00:00, 78.61it/s]"
          ]
        },
        {
          "output_type": "stream",
          "name": "stdout",
          "text": [
            "\n",
            "Accuracy of test text: 56.300000 %\n",
            "Accuracy of test text: 4.800000 %\n"
          ]
        },
        {
          "output_type": "stream",
          "name": "stderr",
          "text": [
            "\n"
          ]
        },
        {
          "output_type": "execute_result",
          "data": {
            "text/plain": [
              "(56.3, 4.8)"
            ]
          },
          "metadata": {},
          "execution_count": 61
        }
      ]
    },
    {
      "cell_type": "markdown",
      "source": [
        "### Carlini&Wagner Attack to Ensemble"
      ],
      "metadata": {
        "id": "DYcD8gotLcUJ"
      }
    },
    {
      "cell_type": "code",
      "source": [
        "apply_cw_ensemble(c=0, kappa=0, steps=10, lr=0.01, n_models=10)"
      ],
      "metadata": {
        "colab": {
          "base_uri": "https://localhost:8080/"
        },
        "id": "-T5mW3yyHYDx",
        "outputId": "63b7c6ca-9eaf-431d-e89e-0b9a920647e8"
      },
      "execution_count": null,
      "outputs": [
        {
          "output_type": "stream",
          "name": "stderr",
          "text": [
            "100%|██████████| 1000/1000 [00:57<00:00, 17.26it/s]"
          ]
        },
        {
          "output_type": "stream",
          "name": "stdout",
          "text": [
            "\n",
            "Accuracy of test text: 60.800000 %\n",
            "Accuracy of test text: 60.600000 %\n"
          ]
        },
        {
          "output_type": "stream",
          "name": "stderr",
          "text": [
            "\n"
          ]
        },
        {
          "output_type": "execute_result",
          "data": {
            "text/plain": [
              "(60.8, 60.6)"
            ]
          },
          "metadata": {},
          "execution_count": 62
        }
      ]
    },
    {
      "cell_type": "code",
      "source": [
        "apply_cw_ensemble(c=0.1, kappa=0, steps=10, lr=0.01, n_models=10)"
      ],
      "metadata": {
        "id": "CcsoYsZ8IcbW",
        "colab": {
          "base_uri": "https://localhost:8080/"
        },
        "outputId": "431568ab-7fe6-4bd7-b90a-5ebc7f29d7ce"
      },
      "execution_count": null,
      "outputs": [
        {
          "output_type": "stream",
          "name": "stderr",
          "text": [
            "100%|██████████| 1000/1000 [01:34<00:00, 10.63it/s]"
          ]
        },
        {
          "output_type": "stream",
          "name": "stdout",
          "text": [
            "\n",
            "Accuracy of test text: 60.800000 %\n",
            "Accuracy of test text: 25.900000 %\n"
          ]
        },
        {
          "output_type": "stream",
          "name": "stderr",
          "text": [
            "\n"
          ]
        },
        {
          "output_type": "execute_result",
          "data": {
            "text/plain": [
              "(60.8, 25.9)"
            ]
          },
          "metadata": {},
          "execution_count": 63
        }
      ]
    },
    {
      "cell_type": "code",
      "source": [
        "apply_cw_ensemble(c=0.2, kappa=0, steps=10, lr=0.01, n_models=10)"
      ],
      "metadata": {
        "colab": {
          "base_uri": "https://localhost:8080/"
        },
        "id": "wgeVDbv_te4m",
        "outputId": "82b052c7-fdd4-452f-9048-6c75222d5bcd"
      },
      "execution_count": null,
      "outputs": [
        {
          "output_type": "stream",
          "name": "stderr",
          "text": [
            "100%|██████████| 1000/1000 [01:36<00:00, 10.33it/s]"
          ]
        },
        {
          "output_type": "stream",
          "name": "stdout",
          "text": [
            "\n",
            "Accuracy of test text: 60.800000 %\n",
            "Accuracy of test text: 10.600000 %\n"
          ]
        },
        {
          "output_type": "stream",
          "name": "stderr",
          "text": [
            "\n"
          ]
        },
        {
          "output_type": "execute_result",
          "data": {
            "text/plain": [
              "(60.8, 10.6)"
            ]
          },
          "metadata": {},
          "execution_count": 64
        }
      ]
    },
    {
      "cell_type": "code",
      "source": [
        "apply_cw_ensemble(c=0.5, kappa=0, steps=10, lr=0.01, n_models=10)"
      ],
      "metadata": {
        "colab": {
          "base_uri": "https://localhost:8080/"
        },
        "id": "-3LuTEQetf59",
        "outputId": "b684a950-8ee0-4541-be99-f61b44752edc"
      },
      "execution_count": null,
      "outputs": [
        {
          "output_type": "stream",
          "name": "stderr",
          "text": [
            "100%|██████████| 1000/1000 [01:33<00:00, 10.74it/s]"
          ]
        },
        {
          "output_type": "stream",
          "name": "stdout",
          "text": [
            "\n",
            "Accuracy of test text: 60.800000 %\n",
            "Accuracy of test text: 3.600000 %\n"
          ]
        },
        {
          "output_type": "stream",
          "name": "stderr",
          "text": [
            "\n"
          ]
        },
        {
          "output_type": "execute_result",
          "data": {
            "text/plain": [
              "(60.8, 3.6)"
            ]
          },
          "metadata": {},
          "execution_count": 65
        }
      ]
    },
    {
      "cell_type": "code",
      "source": [],
      "metadata": {
        "id": "6EvDVfKathC_"
      },
      "execution_count": null,
      "outputs": []
    }
  ]
}